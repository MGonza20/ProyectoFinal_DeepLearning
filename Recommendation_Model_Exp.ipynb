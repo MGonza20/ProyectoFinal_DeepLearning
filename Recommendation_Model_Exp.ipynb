{
  "nbformat": 4,
  "nbformat_minor": 0,
  "metadata": {
    "colab": {
      "provenance": []
    },
    "kernelspec": {
      "name": "python3",
      "display_name": "Python 3"
    },
    "language_info": {
      "name": "python"
    }
  },
  "cells": [
    {
      "cell_type": "code",
      "execution_count": 42,
      "metadata": {
        "id": "xrox7WpTO_Ej"
      },
      "outputs": [],
      "source": [
        "# Para manipulacion de datos\n",
        "import ast\n",
        "import numpy as np\n",
        "import pandas as pd\n",
        "\n",
        "# Para preparar datos\n",
        "from sklearn.preprocessing import MultiLabelBinarizer, LabelEncoder\n",
        "from keras.preprocessing.sequence import pad_sequences\n",
        "from keras.preprocessing.text import Tokenizer\n",
        "from tensorflow.keras.utils import to_categorical\n",
        "\n",
        "# Para la construccion del modelo\n",
        "from keras.layers import Dense, Embedding, Flatten\n",
        "from keras.models import Sequential\n",
        "\n",
        "# Para la evaluacion del modelo\n",
        "import matplotlib.pyplot as plt\n",
        "\n",
        "# Para guardar el modelo, tokenizer y label encoder\n",
        "import pickle\n"
      ]
    },
    {
      "cell_type": "code",
      "source": [
        "recipes = pd.read_csv(\"data/RAW_recipes.csv\")\n",
        "recipes['ingredients'] = recipes['ingredients'].apply(ast.literal_eval)"
      ],
      "metadata": {
        "id": "pV0RB1wuTEkz"
      },
      "execution_count": 43,
      "outputs": []
    },
    {
      "cell_type": "code",
      "source": [
        "ingredients = ['apple', 'banana', 'orange', 'tomato', 'carrot', 'bread', 'cheese', 'mango', 'broccoli', 'grape', 'lemmon', 'pineapple']\n",
        "\n",
        "# Filtrando las recetas que contengan al menos 1 ingredieente de la lista o mas\n",
        "recipes = recipes[recipes['ingredients'].apply(lambda x: any([k in x for k in ingredients]))]\n",
        "len(recipes)"
      ],
      "metadata": {
        "colab": {
          "base_uri": "https://localhost:8080/"
        },
        "id": "eG1pVEnFTKZV",
        "outputId": "0f5538b9-5e2a-42ae-b97f-9c0c0dab78bd"
      },
      "execution_count": 44,
      "outputs": [
        {
          "output_type": "execute_result",
          "data": {
            "text/plain": [
              "18122"
            ]
          },
          "metadata": {},
          "execution_count": 44
        }
      ]
    },
    {
      "cell_type": "code",
      "source": [
        "# Filtrando receptas que contengan 20 ingredientes o menos\n",
        "max_len = 20\n",
        "recipes = recipes[recipes['ingredients'].apply(lambda x: all(len(i) <= max_len for i in x))]\n",
        "len(recipes)"
      ],
      "metadata": {
        "colab": {
          "base_uri": "https://localhost:8080/"
        },
        "id": "1yDviPRbTS2u",
        "outputId": "5643c163-a0ea-45c3-e496-f57ed57e6ee3"
      },
      "execution_count": 45,
      "outputs": [
        {
          "output_type": "execute_result",
          "data": {
            "text/plain": [
              "11191"
            ]
          },
          "metadata": {},
          "execution_count": 45
        }
      ]
    },
    {
      "cell_type": "code",
      "source": [
        "recipes.to_csv('filtered_recipes.csv', index=False)"
      ],
      "metadata": {
        "id": "Aly1AIrndB4T"
      },
      "execution_count": 46,
      "outputs": []
    },
    {
      "cell_type": "code",
      "source": [
        "# Representación binaria de los ingredientes\n",
        "mlb = MultiLabelBinarizer()\n",
        "ingredients_presence = mlb.fit_transform(recipes['ingredients'])\n",
        "\n",
        "# Tokenizacion de los ingredientes\n",
        "tokenizer = Tokenizer()\n",
        "tokenizer.fit_on_texts(recipes['ingredients'])\n",
        "sequences = tokenizer.texts_to_sequences(recipes['ingredients'])\n",
        "padded_sequences = pad_sequences(sequences)"
      ],
      "metadata": {
        "id": "z0uVgLZtTbHU"
      },
      "execution_count": 47,
      "outputs": []
    },
    {
      "cell_type": "code",
      "source": [
        "# Encoding del target (ID de la receta)\n",
        "label_encoder = LabelEncoder()\n",
        "encoded_labels = label_encoder.fit_transform(recipes['id'])\n",
        "one_hot_labels = to_categorical(encoded_labels)"
      ],
      "metadata": {
        "id": "N9cGUuw5TjLc"
      },
      "execution_count": 48,
      "outputs": []
    },
    {
      "cell_type": "code",
      "source": [
        "# Hiperparametros del modelo\n",
        "vocab_size = len(tokenizer.word_index)+1\n",
        "embedding_dim = 100\n",
        "max_length = padded_sequences.shape[1]\n",
        "recipes_q = recipes['id'].nunique()\n",
        "\n",
        "# Construccion del modelo\n",
        "model = Sequential()\n",
        "model.add(Embedding(input_dim=vocab_size, output_dim=embedding_dim, input_length=max_length))\n",
        "model.add(Flatten())\n",
        "model.add(Dense(120, activation='relu'))\n",
        "model.add(Dense(recipes_q, activation='softmax'))\n",
        "\n",
        "# Compilacion del modelo\n",
        "model.compile(optimizer='adam', loss='categorical_crossentropy', metrics=['accuracy'])\n",
        "\n",
        "# Entrenamiento del modelo\n",
        "history = model.fit(padded_sequences, one_hot_labels, epochs=15, verbose=1)"
      ],
      "metadata": {
        "colab": {
          "base_uri": "https://localhost:8080/"
        },
        "id": "ljbna5XNTk7D",
        "outputId": "a643536b-99e2-44c4-9be0-de25775d377a"
      },
      "execution_count": 49,
      "outputs": [
        {
          "output_type": "stream",
          "name": "stdout",
          "text": [
            "Epoch 1/15\n",
            "350/350 [==============================] - 8s 21ms/step - loss: 9.3841 - accuracy: 0.0000e+00\n",
            "Epoch 2/15\n",
            "350/350 [==============================] - 7s 20ms/step - loss: 9.3341 - accuracy: 8.9358e-05\n",
            "Epoch 3/15\n",
            "350/350 [==============================] - 7s 19ms/step - loss: 9.1925 - accuracy: 0.0021\n",
            "Epoch 4/15\n",
            "350/350 [==============================] - 7s 21ms/step - loss: 7.5262 - accuracy: 0.0656\n",
            "Epoch 5/15\n",
            "350/350 [==============================] - 7s 19ms/step - loss: 2.8602 - accuracy: 0.5255\n",
            "Epoch 6/15\n",
            "350/350 [==============================] - 7s 21ms/step - loss: 0.5115 - accuracy: 0.8964\n",
            "Epoch 7/15\n",
            "350/350 [==============================] - 7s 19ms/step - loss: 0.1203 - accuracy: 0.9732\n",
            "Epoch 8/15\n",
            "350/350 [==============================] - 7s 21ms/step - loss: 0.0674 - accuracy: 0.9853\n",
            "Epoch 9/15\n",
            "350/350 [==============================] - 7s 20ms/step - loss: 0.0527 - accuracy: 0.9883\n",
            "Epoch 10/15\n",
            "350/350 [==============================] - 7s 21ms/step - loss: 0.0395 - accuracy: 0.9919\n",
            "Epoch 11/15\n",
            "350/350 [==============================] - 7s 20ms/step - loss: 0.0373 - accuracy: 0.9929\n",
            "Epoch 12/15\n",
            "350/350 [==============================] - 7s 20ms/step - loss: 0.0330 - accuracy: 0.9935\n",
            "Epoch 13/15\n",
            "350/350 [==============================] - 7s 21ms/step - loss: 0.0325 - accuracy: 0.9940\n",
            "Epoch 14/15\n",
            "350/350 [==============================] - 7s 19ms/step - loss: 0.0288 - accuracy: 0.9941\n",
            "Epoch 15/15\n",
            "350/350 [==============================] - 7s 21ms/step - loss: 0.0272 - accuracy: 0.9945\n"
          ]
        }
      ]
    },
    {
      "cell_type": "code",
      "source": [
        "model.save('recipe_model.h5')"
      ],
      "metadata": {
        "colab": {
          "base_uri": "https://localhost:8080/"
        },
        "id": "qk3sKKT1XILC",
        "outputId": "fd571e2a-f699-40fe-f66d-8c7fc19c6836"
      },
      "execution_count": 50,
      "outputs": [
        {
          "output_type": "stream",
          "name": "stderr",
          "text": [
            "/usr/local/lib/python3.10/dist-packages/keras/src/engine/training.py:3079: UserWarning: You are saving your model as an HDF5 file via `model.save()`. This file format is considered legacy. We recommend using instead the native Keras format, e.g. `model.save('my_model.keras')`.\n",
            "  saving_api.save_model(\n"
          ]
        }
      ]
    },
    {
      "cell_type": "code",
      "source": [
        "with open('tokenizer.pickle', 'wb') as handle: pickle.dump(tokenizer, handle, protocol=pickle.HIGHEST_PROTOCOL)\n",
        "with open('label_encoder.pickle', 'wb') as handle: pickle.dump(label_encoder, handle, protocol=pickle.HIGHEST_PROTOCOL)\n",
        "with open('mlb.pickle', 'wb') as handle: pickle.dump(mlb, handle, protocol=pickle.HIGHEST_PROTOCOL)"
      ],
      "metadata": {
        "id": "juriz16KXSUp"
      },
      "execution_count": 51,
      "outputs": []
    },
    {
      "cell_type": "code",
      "source": [
        "try_ingredients = ['bread', 'cheese']\n",
        "try_ingredients_sequence = tokenizer.texts_to_sequences([try_ingredients])\n",
        "try_ingredients_padded = pad_sequences(try_ingredients_sequence, maxlen=padded_sequences.shape[1])\n",
        "\n",
        "predictions = model.predict(try_ingredients_padded)\n",
        "predicted_recipe_id = label_encoder.inverse_transform([np.argmax(predictions)])\n",
        "\n",
        "# Top 3 de recetas mas probables\n",
        "top_3 = predictions.argsort()[0][-3:][::-1]\n",
        "for i in top_3:\n",
        "    recipe_id = label_encoder.inverse_transform([i])[0]\n",
        "    recipe_name = recipes[recipes['id'] == recipe_id]['name'].values[0]\n",
        "    probability = predictions[0][i]\n",
        "    print(f'[{recipe_id}] {recipe_name}: {probability*100:.2f}%')"
      ],
      "metadata": {
        "colab": {
          "base_uri": "https://localhost:8080/"
        },
        "id": "uNabq_6RUCa6",
        "outputId": "4ffe88bd-0138-49b0-e52a-dec274e8abca"
      },
      "execution_count": 52,
      "outputs": [
        {
          "output_type": "stream",
          "name": "stdout",
          "text": [
            "1/1 [==============================] - 0s 46ms/step\n",
            "[531520] cheeze bread: 81.37%\n",
            "[9518] 30 second sandwich: 11.94%\n",
            "[25981] chorizo dip: 1.57%\n"
          ]
        }
      ]
    },
    {
      "cell_type": "code",
      "source": [
        "# Construccion del modelo\n",
        "model = Sequential()\n",
        "model.add(Dense(128, input_dim=ingredients_presence.shape[1], activation='relu'))\n",
        "model.add(Dense(64, activation='relu'))\n",
        "model.add(Dense(recipes_q, activation='softmax'))\n",
        "\n",
        "# Compilacion del modelo\n",
        "model.compile(optimizer='adam', loss='categorical_crossentropy', metrics=['accuracy'])\n",
        "\n",
        "# Entrenamiento del modelo\n",
        "history = model.fit(ingredients_presence, one_hot_labels, epochs=15, verbose=1)"
      ],
      "metadata": {
        "colab": {
          "base_uri": "https://localhost:8080/"
        },
        "id": "1ytK2d_ae5C6",
        "outputId": "a7052ba7-1b28-4574-e230-90273da5924e"
      },
      "execution_count": 53,
      "outputs": [
        {
          "output_type": "stream",
          "name": "stdout",
          "text": [
            "Epoch 1/15\n",
            "350/350 [==============================] - 5s 14ms/step - loss: 9.3839 - accuracy: 0.0000e+00\n",
            "Epoch 2/15\n",
            "350/350 [==============================] - 5s 15ms/step - loss: 9.3146 - accuracy: 5.3615e-04\n",
            "Epoch 3/15\n",
            "350/350 [==============================] - 4s 13ms/step - loss: 8.0779 - accuracy: 0.0163\n",
            "Epoch 4/15\n",
            "350/350 [==============================] - 5s 15ms/step - loss: 4.5473 - accuracy: 0.2802\n",
            "Epoch 5/15\n",
            "350/350 [==============================] - 4s 13ms/step - loss: 1.4975 - accuracy: 0.7099\n",
            "Epoch 6/15\n",
            "350/350 [==============================] - 4s 13ms/step - loss: 0.3395 - accuracy: 0.9341\n",
            "Epoch 7/15\n",
            "350/350 [==============================] - 5s 15ms/step - loss: 0.1310 - accuracy: 0.9727\n",
            "Epoch 8/15\n",
            "350/350 [==============================] - 4s 13ms/step - loss: 0.0863 - accuracy: 0.9805\n",
            "Epoch 9/15\n",
            "350/350 [==============================] - 5s 14ms/step - loss: 0.0680 - accuracy: 0.9839\n",
            "Epoch 10/15\n",
            "350/350 [==============================] - 5s 14ms/step - loss: 0.0579 - accuracy: 0.9863\n",
            "Epoch 11/15\n",
            "350/350 [==============================] - 4s 12ms/step - loss: 0.0493 - accuracy: 0.9879\n",
            "Epoch 12/15\n",
            "350/350 [==============================] - 5s 15ms/step - loss: 0.0459 - accuracy: 0.9884\n",
            "Epoch 13/15\n",
            "350/350 [==============================] - 4s 13ms/step - loss: 0.0461 - accuracy: 0.9875\n",
            "Epoch 14/15\n",
            "350/350 [==============================] - 4s 12ms/step - loss: 0.0431 - accuracy: 0.9892\n",
            "Epoch 15/15\n",
            "350/350 [==============================] - 5s 15ms/step - loss: 0.0427 - accuracy: 0.9890\n"
          ]
        }
      ]
    },
    {
      "cell_type": "code",
      "source": [
        "model.save('recipe_model_v2.h5')"
      ],
      "metadata": {
        "colab": {
          "base_uri": "https://localhost:8080/"
        },
        "id": "eelTm1BYe9h9",
        "outputId": "1784e06d-c84f-44d6-99be-89e0ddc8d9ba"
      },
      "execution_count": 54,
      "outputs": [
        {
          "output_type": "stream",
          "name": "stderr",
          "text": [
            "/usr/local/lib/python3.10/dist-packages/keras/src/engine/training.py:3079: UserWarning: You are saving your model as an HDF5 file via `model.save()`. This file format is considered legacy. We recommend using instead the native Keras format, e.g. `model.save('my_model.keras')`.\n",
            "  saving_api.save_model(\n"
          ]
        }
      ]
    },
    {
      "cell_type": "code",
      "source": [
        "input_binary = mlb.transform([try_ingredients])\n",
        "\n",
        "# Predicciones\n",
        "predictions = model.predict(np.array(input_binary))[0]\n",
        "\n",
        "# Top 3 de recetas mas probables\n",
        "top_3 = predictions.argsort()[-3:][::-1]\n",
        "for i in top_3:\n",
        "    recipe_id = label_encoder.inverse_transform([i])[0]\n",
        "    recipe_name = recipes[recipes['id'] == recipe_id]['name'].values[0]\n",
        "    probability = predictions[i]\n",
        "    print(f'[{recipe_id}] {recipe_name}: {probability*100:.2f}%')\n",
        ""
      ],
      "metadata": {
        "colab": {
          "base_uri": "https://localhost:8080/"
        },
        "id": "-ZJOzxbpedpD",
        "outputId": "63f1c1f2-1005-43d2-d202-380ce12d927a"
      },
      "execution_count": 55,
      "outputs": [
        {
          "output_type": "stream",
          "name": "stderr",
          "text": [
            "WARNING:tensorflow:5 out of the last 5 calls to <function Model.make_predict_function.<locals>.predict_function at 0x7f79c8b8b400> triggered tf.function retracing. Tracing is expensive and the excessive number of tracings could be due to (1) creating @tf.function repeatedly in a loop, (2) passing tensors with different shapes, (3) passing Python objects instead of tensors. For (1), please define your @tf.function outside of the loop. For (2), @tf.function has reduce_retracing=True option that can avoid unnecessary retracing. For (3), please refer to https://www.tensorflow.org/guide/function#controlling_retracing and https://www.tensorflow.org/api_docs/python/tf/function for  more details.\n"
          ]
        },
        {
          "output_type": "stream",
          "name": "stdout",
          "text": [
            "1/1 [==============================] - 0s 47ms/step\n",
            "[531520] cheeze bread: 75.99%\n",
            "[9518] 30 second sandwich: 9.77%\n",
            "[86467] mirowave bacon cheese sandwich: 4.10%\n"
          ]
        }
      ]
    }
  ]
}