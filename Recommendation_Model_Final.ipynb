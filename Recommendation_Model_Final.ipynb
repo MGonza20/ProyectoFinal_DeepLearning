{
 "cells": [
  {
   "cell_type": "markdown",
   "metadata": {},
   "source": [
    "# Modelo de recomendación de recetas"
   ]
  },
  {
   "cell_type": "markdown",
   "metadata": {},
   "source": [
    "### Librerías necesarias"
   ]
  },
  {
   "cell_type": "code",
   "execution_count": 105,
   "metadata": {},
   "outputs": [],
   "source": [
    "# Para manipulacion de datos\n",
    "import ast\n",
    "import numpy as np\n",
    "import pandas as pd\n",
    "\n",
    "# Para preparar datos\n",
    "from sklearn.preprocessing import MultiLabelBinarizer, LabelEncoder\n",
    "from keras.preprocessing.sequence import pad_sequences\n",
    "from keras.preprocessing.text import Tokenizer\n",
    "from tensorflow.keras.utils import to_categorical\n",
    "\n",
    "# Para la construccion del modelo\n",
    "from keras.layers import Dense, Embedding, Flatten \n",
    "from keras.models import Sequential\n",
    "\n",
    "# Para la evaluacion del modelo\n",
    "import matplotlib.pyplot as plt\n",
    "from sklearn.metrics import classification_report\n",
    "from collections import Counter\n"
   ]
  },
  {
   "cell_type": "markdown",
   "metadata": {},
   "source": [
    "### Data inicial"
   ]
  },
  {
   "cell_type": "code",
   "execution_count": 106,
   "metadata": {},
   "outputs": [
    {
     "data": {
      "text/html": [
       "<div>\n",
       "<style scoped>\n",
       "    .dataframe tbody tr th:only-of-type {\n",
       "        vertical-align: middle;\n",
       "    }\n",
       "\n",
       "    .dataframe tbody tr th {\n",
       "        vertical-align: top;\n",
       "    }\n",
       "\n",
       "    .dataframe thead th {\n",
       "        text-align: right;\n",
       "    }\n",
       "</style>\n",
       "<table border=\"1\" class=\"dataframe\">\n",
       "  <thead>\n",
       "    <tr style=\"text-align: right;\">\n",
       "      <th></th>\n",
       "      <th>name</th>\n",
       "      <th>id</th>\n",
       "      <th>minutes</th>\n",
       "      <th>contributor_id</th>\n",
       "      <th>submitted</th>\n",
       "      <th>tags</th>\n",
       "      <th>nutrition</th>\n",
       "      <th>n_steps</th>\n",
       "      <th>steps</th>\n",
       "      <th>description</th>\n",
       "      <th>ingredients</th>\n",
       "      <th>n_ingredients</th>\n",
       "    </tr>\n",
       "  </thead>\n",
       "  <tbody>\n",
       "    <tr>\n",
       "      <th>0</th>\n",
       "      <td>arriba   baked winter squash mexican style</td>\n",
       "      <td>137739</td>\n",
       "      <td>55</td>\n",
       "      <td>47892</td>\n",
       "      <td>2005-09-16</td>\n",
       "      <td>['60-minutes-or-less', 'time-to-make', 'course...</td>\n",
       "      <td>[51.5, 0.0, 13.0, 0.0, 2.0, 0.0, 4.0]</td>\n",
       "      <td>11</td>\n",
       "      <td>['make a choice and proceed with recipe', 'dep...</td>\n",
       "      <td>autumn is my favorite time of year to cook! th...</td>\n",
       "      <td>[winter squash, mexican seasoning, mixed spice...</td>\n",
       "      <td>7</td>\n",
       "    </tr>\n",
       "    <tr>\n",
       "      <th>1</th>\n",
       "      <td>a bit different  breakfast pizza</td>\n",
       "      <td>31490</td>\n",
       "      <td>30</td>\n",
       "      <td>26278</td>\n",
       "      <td>2002-06-17</td>\n",
       "      <td>['30-minutes-or-less', 'time-to-make', 'course...</td>\n",
       "      <td>[173.4, 18.0, 0.0, 17.0, 22.0, 35.0, 1.0]</td>\n",
       "      <td>9</td>\n",
       "      <td>['preheat oven to 425 degrees f', 'press dough...</td>\n",
       "      <td>this recipe calls for the crust to be prebaked...</td>\n",
       "      <td>[prepared pizza crust, sausage patty, eggs, mi...</td>\n",
       "      <td>6</td>\n",
       "    </tr>\n",
       "    <tr>\n",
       "      <th>2</th>\n",
       "      <td>all in the kitchen  chili</td>\n",
       "      <td>112140</td>\n",
       "      <td>130</td>\n",
       "      <td>196586</td>\n",
       "      <td>2005-02-25</td>\n",
       "      <td>['time-to-make', 'course', 'preparation', 'mai...</td>\n",
       "      <td>[269.8, 22.0, 32.0, 48.0, 39.0, 27.0, 5.0]</td>\n",
       "      <td>6</td>\n",
       "      <td>['brown ground beef in large pot', 'add choppe...</td>\n",
       "      <td>this modified version of 'mom's' chili was a h...</td>\n",
       "      <td>[ground beef, yellow onions, diced tomatoes, t...</td>\n",
       "      <td>13</td>\n",
       "    </tr>\n",
       "    <tr>\n",
       "      <th>3</th>\n",
       "      <td>alouette  potatoes</td>\n",
       "      <td>59389</td>\n",
       "      <td>45</td>\n",
       "      <td>68585</td>\n",
       "      <td>2003-04-14</td>\n",
       "      <td>['60-minutes-or-less', 'time-to-make', 'course...</td>\n",
       "      <td>[368.1, 17.0, 10.0, 2.0, 14.0, 8.0, 20.0]</td>\n",
       "      <td>11</td>\n",
       "      <td>['place potatoes in a large pot of lightly sal...</td>\n",
       "      <td>this is a super easy, great tasting, make ahea...</td>\n",
       "      <td>[spreadable cheese with garlic and herbs, new ...</td>\n",
       "      <td>11</td>\n",
       "    </tr>\n",
       "    <tr>\n",
       "      <th>4</th>\n",
       "      <td>amish  tomato ketchup  for canning</td>\n",
       "      <td>44061</td>\n",
       "      <td>190</td>\n",
       "      <td>41706</td>\n",
       "      <td>2002-10-25</td>\n",
       "      <td>['weeknight', 'time-to-make', 'course', 'main-...</td>\n",
       "      <td>[352.9, 1.0, 337.0, 23.0, 3.0, 0.0, 28.0]</td>\n",
       "      <td>5</td>\n",
       "      <td>['mix all ingredients&amp; boil for 2 1 / 2 hours ...</td>\n",
       "      <td>my dh's amish mother raised him on this recipe...</td>\n",
       "      <td>[tomato juice, apple cider vinegar, sugar, sal...</td>\n",
       "      <td>8</td>\n",
       "    </tr>\n",
       "  </tbody>\n",
       "</table>\n",
       "</div>"
      ],
      "text/plain": [
       "                                         name      id  minutes   \n",
       "0  arriba   baked winter squash mexican style  137739       55  \\\n",
       "1            a bit different  breakfast pizza   31490       30   \n",
       "2                   all in the kitchen  chili  112140      130   \n",
       "3                          alouette  potatoes   59389       45   \n",
       "4          amish  tomato ketchup  for canning   44061      190   \n",
       "\n",
       "   contributor_id   submitted   \n",
       "0           47892  2005-09-16  \\\n",
       "1           26278  2002-06-17   \n",
       "2          196586  2005-02-25   \n",
       "3           68585  2003-04-14   \n",
       "4           41706  2002-10-25   \n",
       "\n",
       "                                                tags   \n",
       "0  ['60-minutes-or-less', 'time-to-make', 'course...  \\\n",
       "1  ['30-minutes-or-less', 'time-to-make', 'course...   \n",
       "2  ['time-to-make', 'course', 'preparation', 'mai...   \n",
       "3  ['60-minutes-or-less', 'time-to-make', 'course...   \n",
       "4  ['weeknight', 'time-to-make', 'course', 'main-...   \n",
       "\n",
       "                                    nutrition  n_steps   \n",
       "0       [51.5, 0.0, 13.0, 0.0, 2.0, 0.0, 4.0]       11  \\\n",
       "1   [173.4, 18.0, 0.0, 17.0, 22.0, 35.0, 1.0]        9   \n",
       "2  [269.8, 22.0, 32.0, 48.0, 39.0, 27.0, 5.0]        6   \n",
       "3   [368.1, 17.0, 10.0, 2.0, 14.0, 8.0, 20.0]       11   \n",
       "4   [352.9, 1.0, 337.0, 23.0, 3.0, 0.0, 28.0]        5   \n",
       "\n",
       "                                               steps   \n",
       "0  ['make a choice and proceed with recipe', 'dep...  \\\n",
       "1  ['preheat oven to 425 degrees f', 'press dough...   \n",
       "2  ['brown ground beef in large pot', 'add choppe...   \n",
       "3  ['place potatoes in a large pot of lightly sal...   \n",
       "4  ['mix all ingredients& boil for 2 1 / 2 hours ...   \n",
       "\n",
       "                                         description   \n",
       "0  autumn is my favorite time of year to cook! th...  \\\n",
       "1  this recipe calls for the crust to be prebaked...   \n",
       "2  this modified version of 'mom's' chili was a h...   \n",
       "3  this is a super easy, great tasting, make ahea...   \n",
       "4  my dh's amish mother raised him on this recipe...   \n",
       "\n",
       "                                         ingredients  n_ingredients  \n",
       "0  [winter squash, mexican seasoning, mixed spice...              7  \n",
       "1  [prepared pizza crust, sausage patty, eggs, mi...              6  \n",
       "2  [ground beef, yellow onions, diced tomatoes, t...             13  \n",
       "3  [spreadable cheese with garlic and herbs, new ...             11  \n",
       "4  [tomato juice, apple cider vinegar, sugar, sal...              8  "
      ]
     },
     "execution_count": 106,
     "metadata": {},
     "output_type": "execute_result"
    }
   ],
   "source": [
    "recipes = pd.read_csv(\"data/RAW_recipes.csv\")\n",
    "recipes['ingredients'] = recipes['ingredients'].apply(ast.literal_eval)\n",
    "recipes.head()"
   ]
  },
  {
   "cell_type": "markdown",
   "metadata": {},
   "source": [
    "### Preparación de datos"
   ]
  },
  {
   "cell_type": "code",
   "execution_count": 107,
   "metadata": {},
   "outputs": [
    {
     "data": {
      "text/plain": [
       "18122"
      ]
     },
     "execution_count": 107,
     "metadata": {},
     "output_type": "execute_result"
    }
   ],
   "source": [
    "\n",
    "ingredients = ['apple', 'banana', 'orange', 'tomato', 'carrot', 'bread', 'cheese', 'mango', 'broccoli', 'grape', 'lemmon', 'pineapple']\n",
    "\n",
    "# Filtrando las recetas que contengan al menos 1 ingredieente de la lista o mas\n",
    "recipes = recipes[recipes['ingredients'].apply(lambda x: any([k in x for k in ingredients]))]\n",
    "len(recipes)"
   ]
  },
  {
   "cell_type": "code",
   "execution_count": 108,
   "metadata": {},
   "outputs": [
    {
     "data": {
      "text/plain": [
       "11191"
      ]
     },
     "execution_count": 108,
     "metadata": {},
     "output_type": "execute_result"
    }
   ],
   "source": [
    "# Filtrando receptas que contengan 20 ingredientes o menos\n",
    "max_len = 20\n",
    "recipes = recipes[recipes['ingredients'].apply(lambda x: all(len(i) <= max_len for i in x))]\n",
    "len(recipes)"
   ]
  },
  {
   "cell_type": "code",
   "execution_count": 109,
   "metadata": {},
   "outputs": [],
   "source": [
    "# Representación binaria de los ingredientes\n",
    "mlb = MultiLabelBinarizer()\n",
    "ingredients_presence = mlb.fit_transform(recipes['ingredients'])\n",
    "\n",
    "# Tokenizacion de los ingredientes\n",
    "tokenizer = Tokenizer()\n",
    "tokenizer.fit_on_texts(recipes['ingredients'])\n",
    "sequences = tokenizer.texts_to_sequences(recipes['ingredients'])\n",
    "padded_sequences = pad_sequences(sequences)\n"
   ]
  },
  {
   "cell_type": "code",
   "execution_count": 110,
   "metadata": {},
   "outputs": [],
   "source": [
    "# Encoding del target (ID de la receta)\n",
    "label_encoder = LabelEncoder()\n",
    "encoded_labels = label_encoder.fit_transform(recipes['id'])\n",
    "one_hot_labels = to_categorical(encoded_labels)"
   ]
  },
  {
   "cell_type": "markdown",
   "metadata": {},
   "source": [
    "## Modelo con embedding"
   ]
  },
  {
   "cell_type": "code",
   "execution_count": 111,
   "metadata": {},
   "outputs": [
    {
     "name": "stdout",
     "output_type": "stream",
     "text": [
      "Epoch 1/25\n",
      "350/350 [==============================] - 2s 4ms/step - loss: 9.3840 - accuracy: 0.0000e+00\n",
      "Epoch 2/25\n",
      "350/350 [==============================] - 1s 4ms/step - loss: 9.3324 - accuracy: 1.7872e-04\n",
      "Epoch 3/25\n",
      "350/350 [==============================] - 1s 4ms/step - loss: 9.0098 - accuracy: 0.0040\n",
      "Epoch 4/25\n",
      "350/350 [==============================] - 1s 4ms/step - loss: 6.2211 - accuracy: 0.1692\n",
      "Epoch 5/25\n",
      "350/350 [==============================] - 1s 4ms/step - loss: 1.4743 - accuracy: 0.7223\n",
      "Epoch 6/25\n",
      "350/350 [==============================] - 1s 4ms/step - loss: 0.2283 - accuracy: 0.9487\n",
      "Epoch 7/25\n",
      "350/350 [==============================] - 1s 4ms/step - loss: 0.0934 - accuracy: 0.9773\n",
      "Epoch 8/25\n",
      "350/350 [==============================] - 1s 4ms/step - loss: 0.0615 - accuracy: 0.9843\n",
      "Epoch 9/25\n",
      "350/350 [==============================] - 1s 4ms/step - loss: 0.0467 - accuracy: 0.9891\n",
      "Epoch 10/25\n",
      "350/350 [==============================] - 2s 4ms/step - loss: 0.0406 - accuracy: 0.9907\n",
      "Epoch 11/25\n",
      "350/350 [==============================] - 2s 4ms/step - loss: 0.0345 - accuracy: 0.9922\n",
      "Epoch 12/25\n",
      "350/350 [==============================] - 2s 5ms/step - loss: 0.0303 - accuracy: 0.9931\n",
      "Epoch 13/25\n",
      "350/350 [==============================] - 1s 4ms/step - loss: 0.0277 - accuracy: 0.9936\n",
      "Epoch 14/25\n",
      "350/350 [==============================] - 1s 4ms/step - loss: 0.0278 - accuracy: 0.9940\n",
      "Epoch 15/25\n",
      "350/350 [==============================] - 1s 4ms/step - loss: 0.0276 - accuracy: 0.9940\n",
      "Epoch 16/25\n",
      "350/350 [==============================] - 1s 4ms/step - loss: 0.0256 - accuracy: 0.9942\n",
      "Epoch 17/25\n",
      "350/350 [==============================] - 1s 4ms/step - loss: 0.0244 - accuracy: 0.9945\n",
      "Epoch 18/25\n",
      "350/350 [==============================] - 1s 4ms/step - loss: 0.0257 - accuracy: 0.9942\n",
      "Epoch 19/25\n",
      "350/350 [==============================] - 1s 4ms/step - loss: 0.0217 - accuracy: 0.9945\n",
      "Epoch 20/25\n",
      "350/350 [==============================] - 1s 4ms/step - loss: 0.0228 - accuracy: 0.9946\n",
      "Epoch 21/25\n",
      "350/350 [==============================] - 1s 4ms/step - loss: 0.0214 - accuracy: 0.9945\n",
      "Epoch 22/25\n",
      "350/350 [==============================] - 1s 4ms/step - loss: 0.0200 - accuracy: 0.9947\n",
      "Epoch 23/25\n",
      "350/350 [==============================] - 1s 4ms/step - loss: 0.0205 - accuracy: 0.9945\n",
      "Epoch 24/25\n",
      "350/350 [==============================] - 1s 4ms/step - loss: 0.0202 - accuracy: 0.9944\n",
      "Epoch 25/25\n",
      "350/350 [==============================] - 1s 4ms/step - loss: 0.0182 - accuracy: 0.9951\n"
     ]
    }
   ],
   "source": [
    "# Hiperparametros del modelo\n",
    "vocab_size = len(tokenizer.word_index)+1\n",
    "embedding_dim = 50\n",
    "max_length = padded_sequences.shape[1]\n",
    "recipes_q = recipes['id'].nunique()\n",
    "\n",
    "# Construccion del modelo\n",
    "model = Sequential()\n",
    "model.add(Embedding(input_dim=vocab_size, output_dim=embedding_dim, input_length=max_length))\n",
    "model.add(Flatten())\n",
    "model.add(Dense(120, activation='relu'))\n",
    "model.add(Dense(recipes_q, activation='softmax'))\n",
    "\n",
    "# Compilacion del modelo\n",
    "model.compile(optimizer='adam', loss='categorical_crossentropy', metrics=['accuracy'])\n",
    "\n",
    "# Entrenamiento del modelo\n",
    "history = model.fit(padded_sequences, one_hot_labels, epochs=25, verbose=1)"
   ]
  },
  {
   "cell_type": "code",
   "execution_count": 112,
   "metadata": {},
   "outputs": [
    {
     "data": {
      "image/png": "[encoded data removed]",
      "text/plain": [
       "<Figure size 640x480 with 1 Axes>"
      ]
     },
     "metadata": {},
     "output_type": "display_data"
    }
   ],
   "source": [
    "plt.plot(history.history['loss'])\n",
    "plt.title('Model Loss')\n",
    "plt.xlabel('Epoch')\n",
    "plt.ylabel('Loss')\n",
    "plt.show()\n"
   ]
  },
  {
   "cell_type": "code",
   "execution_count": 113,
   "metadata": {},
   "outputs": [
    {
     "data": {
      "image/png": "[encoded data removed]",
      "text/plain": [
       "<Figure size 640x480 with 1 Axes>"
      ]
     },
     "metadata": {},
     "output_type": "display_data"
    }
   ],
   "source": [
    "plt.plot(history.history['accuracy'])\n",
    "plt.title('Model Accuracy')\n",
    "plt.xlabel('Epoch')\n",
    "plt.ylabel('Accuracy')\n",
    "plt.show()\n"
   ]
  },
  {
   "cell_type": "code",
   "execution_count": 114,
   "metadata": {},
   "outputs": [
    {
     "name": "stdout",
     "output_type": "stream",
     "text": [
      "1/1 [==============================] - 0s 29ms/step\n",
      "[370567]\n"
     ]
    },
    {
     "data": {
      "text/plain": [
       "array([[1.35203532e-04, 1.13415499e-10, 1.29639375e-08, ...,\n",
       "        1.33199137e-07, 3.27674665e-09, 5.02059663e-07]], dtype=float32)"
      ]
     },
     "execution_count": 114,
     "metadata": {},
     "output_type": "execute_result"
    }
   ],
   "source": [
    "try_ingredients_2 = ['tomato', 'cheese', 'pasta']\n",
    "\n",
    "try_ingredients_sequence = tokenizer.texts_to_sequences([try_ingredients_2])\n",
    "try_ingredients_padded = pad_sequences(try_ingredients_sequence, maxlen=padded_sequences.shape[1])\n",
    "\n",
    "predictions = model.predict(try_ingredients_padded)\n",
    "predicted_recipe_id = label_encoder.inverse_transform([np.argmax(predictions)])\n",
    "\n",
    "print(predicted_recipe_id)\n",
    "\n",
    "predictions"
   ]
  },
  {
   "cell_type": "code",
   "execution_count": 115,
   "metadata": {},
   "outputs": [
    {
     "name": "stdout",
     "output_type": "stream",
     "text": [
      "1/1 [==============================] - 0s 12ms/step\n",
      "[531520] cheeze bread: 75.39%\n",
      "[9518] 30 second sandwich: 15.85%\n",
      "[81655] justin s cheese bread: 1.04%\n",
      "[71382] easy cheesy hot  dogs: 0.89%\n",
      "[179086] ketchup toast: 0.74%\n"
     ]
    }
   ],
   "source": [
    "try_ingredients = ['bread', 'cheese']\n",
    "try_ingredients_sequence = tokenizer.texts_to_sequences([try_ingredients])\n",
    "try_ingredients_padded = pad_sequences(try_ingredients_sequence, maxlen=padded_sequences.shape[1])\n",
    "\n",
    "predictions = model.predict(try_ingredients_padded)\n",
    "predicted_recipe_id = label_encoder.inverse_transform([np.argmax(predictions)])\n",
    "\n",
    "# Top 3 de recetas mas probables\n",
    "top_3 = predictions.argsort()[0][-5:][::-1]\n",
    "for i in top_3:\n",
    "    recipe_id = label_encoder.inverse_transform([i])[0]\n",
    "    recipe_name = recipes[recipes['id'] == recipe_id]['name'].values[0]\n",
    "    probability = predictions[0][i]\n",
    "    print(f'[{recipe_id}] {recipe_name}: {probability*100:.2f}%')"
   ]
  },
  {
   "cell_type": "markdown",
   "metadata": {},
   "source": [
    "## Modelo sin embedding"
   ]
  },
  {
   "cell_type": "code",
   "execution_count": 116,
   "metadata": {},
   "outputs": [
    {
     "name": "stdout",
     "output_type": "stream",
     "text": [
      "Epoch 1/25\n",
      "350/350 [==============================] - 1s 4ms/step - loss: 9.3839 - accuracy: 0.0000e+00\n",
      "Epoch 2/25\n",
      "350/350 [==============================] - 1s 3ms/step - loss: 9.3074 - accuracy: 3.5743e-04\n",
      "Epoch 3/25\n",
      "350/350 [==============================] - 1s 4ms/step - loss: 8.0677 - accuracy: 0.0158\n",
      "Epoch 4/25\n",
      "350/350 [==============================] - 1s 4ms/step - loss: 4.4409 - accuracy: 0.2726\n",
      "Epoch 5/25\n",
      "350/350 [==============================] - 1s 4ms/step - loss: 1.3775 - accuracy: 0.7263\n",
      "Epoch 6/25\n",
      "350/350 [==============================] - 1s 3ms/step - loss: 0.3256 - accuracy: 0.9398\n",
      "Epoch 7/25\n",
      "350/350 [==============================] - 1s 4ms/step - loss: 0.1446 - accuracy: 0.9725\n",
      "Epoch 8/25\n",
      "350/350 [==============================] - 1s 4ms/step - loss: 0.0923 - accuracy: 0.9805\n",
      "Epoch 9/25\n",
      "350/350 [==============================] - 1s 4ms/step - loss: 0.0710 - accuracy: 0.9845\n",
      "Epoch 10/25\n",
      "350/350 [==============================] - 1s 4ms/step - loss: 0.0633 - accuracy: 0.9854\n",
      "Epoch 11/25\n",
      "350/350 [==============================] - 1s 4ms/step - loss: 0.0523 - accuracy: 0.9880\n",
      "Epoch 12/25\n",
      "350/350 [==============================] - 1s 4ms/step - loss: 0.0508 - accuracy: 0.9882\n",
      "Epoch 13/25\n",
      "350/350 [==============================] - 1s 4ms/step - loss: 0.0477 - accuracy: 0.9887\n",
      "Epoch 14/25\n",
      "350/350 [==============================] - 1s 4ms/step - loss: 0.0461 - accuracy: 0.9892\n",
      "Epoch 15/25\n",
      "350/350 [==============================] - 1s 4ms/step - loss: 0.0430 - accuracy: 0.9890\n",
      "Epoch 16/25\n",
      "350/350 [==============================] - 1s 4ms/step - loss: 0.0430 - accuracy: 0.9887\n",
      "Epoch 17/25\n",
      "350/350 [==============================] - 1s 3ms/step - loss: 0.0431 - accuracy: 0.9886\n",
      "Epoch 18/25\n",
      "350/350 [==============================] - 1s 3ms/step - loss: 0.0384 - accuracy: 0.9896\n",
      "Epoch 19/25\n",
      "350/350 [==============================] - 1s 3ms/step - loss: 0.0387 - accuracy: 0.9898\n",
      "Epoch 20/25\n",
      "350/350 [==============================] - 1s 3ms/step - loss: 0.0400 - accuracy: 0.9891\n",
      "Epoch 21/25\n",
      "350/350 [==============================] - 1s 4ms/step - loss: 0.0375 - accuracy: 0.9901\n",
      "Epoch 22/25\n",
      "350/350 [==============================] - 1s 4ms/step - loss: 0.0347 - accuracy: 0.9903\n",
      "Epoch 23/25\n",
      "350/350 [==============================] - 1s 4ms/step - loss: 0.0357 - accuracy: 0.9894\n",
      "Epoch 24/25\n",
      "350/350 [==============================] - 1s 4ms/step - loss: 0.0347 - accuracy: 0.9897\n",
      "Epoch 25/25\n",
      "350/350 [==============================] - 1s 4ms/step - loss: 0.0302 - accuracy: 0.9906\n"
     ]
    }
   ],
   "source": [
    "# Hiperparametros del modelo - sin embedding\n",
    "vocab_size = len(tokenizer.word_index)+1\n",
    "embedding_dim = 50\n",
    "max_length = padded_sequences.shape[1]\n",
    "recipes_q = recipes['id'].nunique()\n",
    "\n",
    "# Construccion del modelo\n",
    "model = Sequential()\n",
    "model.add(Dense(128, input_dim=ingredients_presence.shape[1], activation='relu'))\n",
    "model.add(Dense(64, activation='relu'))\n",
    "model.add(Dense(recipes_q, activation='softmax'))\n",
    "\n",
    "# Compilacion del modelo\n",
    "model.compile(optimizer='adam', loss='categorical_crossentropy', metrics=['accuracy'])\n",
    "\n",
    "# Entrenamiento del modelo\n",
    "history = model.fit(ingredients_presence, one_hot_labels, epochs=25, verbose=1)"
   ]
  },
  {
   "cell_type": "code",
   "execution_count": 117,
   "metadata": {},
   "outputs": [
    {
     "data": {
      "image/png": "[encoded data removed]",
      "text/plain": [
       "<Figure size 640x480 with 1 Axes>"
      ]
     },
     "metadata": {},
     "output_type": "display_data"
    }
   ],
   "source": [
    "plt.plot(history.history['loss'])\n",
    "plt.title('Model Loss')\n",
    "plt.xlabel('Epoch')\n",
    "plt.ylabel('Loss')\n",
    "plt.show()\n"
   ]
  },
  {
   "cell_type": "code",
   "execution_count": 118,
   "metadata": {},
   "outputs": [
    {
     "data": {
      "image/png": "[encoded data removed]",
      "text/plain": [
       "<Figure size 640x480 with 1 Axes>"
      ]
     },
     "metadata": {},
     "output_type": "display_data"
    }
   ],
   "source": [
    "plt.plot(history.history['accuracy'])\n",
    "plt.title('Model Accuracy')\n",
    "plt.xlabel('Epoch')\n",
    "plt.ylabel('Accuracy')\n",
    "plt.show()\n"
   ]
  },
  {
   "cell_type": "code",
   "execution_count": 119,
   "metadata": {},
   "outputs": [
    {
     "name": "stdout",
     "output_type": "stream",
     "text": [
      "1/1 [==============================] - 0s 29ms/step\n",
      "[531520] cheeze bread: 87.19%\n",
      "[9518] 30 second sandwich: 8.41%\n",
      "[86467] mirowave bacon cheese sandwich: 0.65%\n",
      "[229799] easy two ingredient stuffed mushrooms: 0.57%\n",
      "[468219] caramelized cheese covered grilled cheese sandwich: 0.37%\n"
     ]
    }
   ],
   "source": [
    "input_binary = mlb.transform([try_ingredients])\n",
    "\n",
    "# Predicciones\n",
    "predictions = model.predict(np.array(input_binary))[0]\n",
    "\n",
    "# Top 5 de recetas mas probables\n",
    "top_5 = predictions.argsort()[-5:][::-1]\n",
    "for i in top_5:\n",
    "    recipe_id = label_encoder.inverse_transform([i])[0]\n",
    "    recipe_name = recipes[recipes['id'] == recipe_id]['name'].values[0]\n",
    "    probability = predictions[i]\n",
    "    print(f'[{recipe_id}] {recipe_name}: {probability*100:.2f}%')\n",
    "    "
   ]
  }
 ],
 "metadata": {
  "kernelspec": {
   "display_name": "Python 3",
   "language": "python",
   "name": "python3"
  },
  "language_info": {
   "codemirror_mode": {
    "name": "ipython",
    "version": 3
   },
   "file_extension": ".py",
   "mimetype": "text/x-python",
   "name": "python",
   "nbconvert_exporter": "python",
   "pygments_lexer": "ipython3",
   "version": "3.11.3"
  }
 },
 "nbformat": 4,
 "nbformat_minor": 2
}
