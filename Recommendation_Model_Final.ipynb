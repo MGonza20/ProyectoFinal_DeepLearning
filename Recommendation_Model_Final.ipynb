{
 "cells": [
  {
   "cell_type": "markdown",
   "metadata": {},
   "source": [
    "# Modelo de recomendación de recetas"
   ]
  },
  {
   "cell_type": "markdown",
   "metadata": {},
   "source": [
    "### Librerías necesarias"
   ]
  },
  {
   "cell_type": "code",
   "execution_count": 77,
   "metadata": {},
   "outputs": [],
   "source": [
    "# Para manipulacion de datos\n",
    "import ast\n",
    "import numpy as np\n",
    "import pandas as pd\n",
    "\n",
    "# Para preparar datos\n",
    "from sklearn.preprocessing import MultiLabelBinarizer, LabelEncoder\n",
    "from keras.preprocessing.sequence import pad_sequences\n",
    "from keras.preprocessing.text import Tokenizer\n",
    "from tensorflow.keras.utils import to_categorical\n",
    "\n",
    "# Para la construccion del modelo\n",
    "from keras.layers import Dense, Embedding, Flatten \n",
    "from keras.models import Sequential\n"
   ]
  },
  {
   "cell_type": "markdown",
   "metadata": {},
   "source": [
    "### Data inicial"
   ]
  },
  {
   "cell_type": "code",
   "execution_count": 94,
   "metadata": {},
   "outputs": [
    {
     "data": {
      "text/html": [
       "<div>\n",
       "<style scoped>\n",
       "    .dataframe tbody tr th:only-of-type {\n",
       "        vertical-align: middle;\n",
       "    }\n",
       "\n",
       "    .dataframe tbody tr th {\n",
       "        vertical-align: top;\n",
       "    }\n",
       "\n",
       "    .dataframe thead th {\n",
       "        text-align: right;\n",
       "    }\n",
       "</style>\n",
       "<table border=\"1\" class=\"dataframe\">\n",
       "  <thead>\n",
       "    <tr style=\"text-align: right;\">\n",
       "      <th></th>\n",
       "      <th>name</th>\n",
       "      <th>id</th>\n",
       "      <th>minutes</th>\n",
       "      <th>contributor_id</th>\n",
       "      <th>submitted</th>\n",
       "      <th>tags</th>\n",
       "      <th>nutrition</th>\n",
       "      <th>n_steps</th>\n",
       "      <th>steps</th>\n",
       "      <th>description</th>\n",
       "      <th>ingredients</th>\n",
       "      <th>n_ingredients</th>\n",
       "    </tr>\n",
       "  </thead>\n",
       "  <tbody>\n",
       "    <tr>\n",
       "      <th>0</th>\n",
       "      <td>arriba   baked winter squash mexican style</td>\n",
       "      <td>137739</td>\n",
       "      <td>55</td>\n",
       "      <td>47892</td>\n",
       "      <td>2005-09-16</td>\n",
       "      <td>['60-minutes-or-less', 'time-to-make', 'course...</td>\n",
       "      <td>[51.5, 0.0, 13.0, 0.0, 2.0, 0.0, 4.0]</td>\n",
       "      <td>11</td>\n",
       "      <td>['make a choice and proceed with recipe', 'dep...</td>\n",
       "      <td>autumn is my favorite time of year to cook! th...</td>\n",
       "      <td>[winter squash, mexican seasoning, mixed spice...</td>\n",
       "      <td>7</td>\n",
       "    </tr>\n",
       "    <tr>\n",
       "      <th>1</th>\n",
       "      <td>a bit different  breakfast pizza</td>\n",
       "      <td>31490</td>\n",
       "      <td>30</td>\n",
       "      <td>26278</td>\n",
       "      <td>2002-06-17</td>\n",
       "      <td>['30-minutes-or-less', 'time-to-make', 'course...</td>\n",
       "      <td>[173.4, 18.0, 0.0, 17.0, 22.0, 35.0, 1.0]</td>\n",
       "      <td>9</td>\n",
       "      <td>['preheat oven to 425 degrees f', 'press dough...</td>\n",
       "      <td>this recipe calls for the crust to be prebaked...</td>\n",
       "      <td>[prepared pizza crust, sausage patty, eggs, mi...</td>\n",
       "      <td>6</td>\n",
       "    </tr>\n",
       "    <tr>\n",
       "      <th>2</th>\n",
       "      <td>all in the kitchen  chili</td>\n",
       "      <td>112140</td>\n",
       "      <td>130</td>\n",
       "      <td>196586</td>\n",
       "      <td>2005-02-25</td>\n",
       "      <td>['time-to-make', 'course', 'preparation', 'mai...</td>\n",
       "      <td>[269.8, 22.0, 32.0, 48.0, 39.0, 27.0, 5.0]</td>\n",
       "      <td>6</td>\n",
       "      <td>['brown ground beef in large pot', 'add choppe...</td>\n",
       "      <td>this modified version of 'mom's' chili was a h...</td>\n",
       "      <td>[ground beef, yellow onions, diced tomatoes, t...</td>\n",
       "      <td>13</td>\n",
       "    </tr>\n",
       "    <tr>\n",
       "      <th>3</th>\n",
       "      <td>alouette  potatoes</td>\n",
       "      <td>59389</td>\n",
       "      <td>45</td>\n",
       "      <td>68585</td>\n",
       "      <td>2003-04-14</td>\n",
       "      <td>['60-minutes-or-less', 'time-to-make', 'course...</td>\n",
       "      <td>[368.1, 17.0, 10.0, 2.0, 14.0, 8.0, 20.0]</td>\n",
       "      <td>11</td>\n",
       "      <td>['place potatoes in a large pot of lightly sal...</td>\n",
       "      <td>this is a super easy, great tasting, make ahea...</td>\n",
       "      <td>[spreadable cheese with garlic and herbs, new ...</td>\n",
       "      <td>11</td>\n",
       "    </tr>\n",
       "    <tr>\n",
       "      <th>4</th>\n",
       "      <td>amish  tomato ketchup  for canning</td>\n",
       "      <td>44061</td>\n",
       "      <td>190</td>\n",
       "      <td>41706</td>\n",
       "      <td>2002-10-25</td>\n",
       "      <td>['weeknight', 'time-to-make', 'course', 'main-...</td>\n",
       "      <td>[352.9, 1.0, 337.0, 23.0, 3.0, 0.0, 28.0]</td>\n",
       "      <td>5</td>\n",
       "      <td>['mix all ingredients&amp; boil for 2 1 / 2 hours ...</td>\n",
       "      <td>my dh's amish mother raised him on this recipe...</td>\n",
       "      <td>[tomato juice, apple cider vinegar, sugar, sal...</td>\n",
       "      <td>8</td>\n",
       "    </tr>\n",
       "  </tbody>\n",
       "</table>\n",
       "</div>"
      ],
      "text/plain": [
       "                                         name      id  minutes   \n",
       "0  arriba   baked winter squash mexican style  137739       55  \\\n",
       "1            a bit different  breakfast pizza   31490       30   \n",
       "2                   all in the kitchen  chili  112140      130   \n",
       "3                          alouette  potatoes   59389       45   \n",
       "4          amish  tomato ketchup  for canning   44061      190   \n",
       "\n",
       "   contributor_id   submitted   \n",
       "0           47892  2005-09-16  \\\n",
       "1           26278  2002-06-17   \n",
       "2          196586  2005-02-25   \n",
       "3           68585  2003-04-14   \n",
       "4           41706  2002-10-25   \n",
       "\n",
       "                                                tags   \n",
       "0  ['60-minutes-or-less', 'time-to-make', 'course...  \\\n",
       "1  ['30-minutes-or-less', 'time-to-make', 'course...   \n",
       "2  ['time-to-make', 'course', 'preparation', 'mai...   \n",
       "3  ['60-minutes-or-less', 'time-to-make', 'course...   \n",
       "4  ['weeknight', 'time-to-make', 'course', 'main-...   \n",
       "\n",
       "                                    nutrition  n_steps   \n",
       "0       [51.5, 0.0, 13.0, 0.0, 2.0, 0.0, 4.0]       11  \\\n",
       "1   [173.4, 18.0, 0.0, 17.0, 22.0, 35.0, 1.0]        9   \n",
       "2  [269.8, 22.0, 32.0, 48.0, 39.0, 27.0, 5.0]        6   \n",
       "3   [368.1, 17.0, 10.0, 2.0, 14.0, 8.0, 20.0]       11   \n",
       "4   [352.9, 1.0, 337.0, 23.0, 3.0, 0.0, 28.0]        5   \n",
       "\n",
       "                                               steps   \n",
       "0  ['make a choice and proceed with recipe', 'dep...  \\\n",
       "1  ['preheat oven to 425 degrees f', 'press dough...   \n",
       "2  ['brown ground beef in large pot', 'add choppe...   \n",
       "3  ['place potatoes in a large pot of lightly sal...   \n",
       "4  ['mix all ingredients& boil for 2 1 / 2 hours ...   \n",
       "\n",
       "                                         description   \n",
       "0  autumn is my favorite time of year to cook! th...  \\\n",
       "1  this recipe calls for the crust to be prebaked...   \n",
       "2  this modified version of 'mom's' chili was a h...   \n",
       "3  this is a super easy, great tasting, make ahea...   \n",
       "4  my dh's amish mother raised him on this recipe...   \n",
       "\n",
       "                                         ingredients  n_ingredients  \n",
       "0  [winter squash, mexican seasoning, mixed spice...              7  \n",
       "1  [prepared pizza crust, sausage patty, eggs, mi...              6  \n",
       "2  [ground beef, yellow onions, diced tomatoes, t...             13  \n",
       "3  [spreadable cheese with garlic and herbs, new ...             11  \n",
       "4  [tomato juice, apple cider vinegar, sugar, sal...              8  "
      ]
     },
     "execution_count": 94,
     "metadata": {},
     "output_type": "execute_result"
    }
   ],
   "source": [
    "recipes = pd.read_csv(\"data/RAW_recipes.csv\")\n",
    "recipes['ingredients'] = recipes['ingredients'].apply(ast.literal_eval)\n",
    "recipes.head()"
   ]
  },
  {
   "cell_type": "markdown",
   "metadata": {},
   "source": [
    "### Preparación de datos"
   ]
  },
  {
   "cell_type": "code",
   "execution_count": 79,
   "metadata": {},
   "outputs": [
    {
     "data": {
      "text/plain": [
       "18122"
      ]
     },
     "execution_count": 79,
     "metadata": {},
     "output_type": "execute_result"
    }
   ],
   "source": [
    "\n",
    "ingredients = ['apple', 'banana', 'orange', 'tomato', 'carrot', 'bread', 'cheese', 'mango', 'broccoli', 'grape', 'lemmon', 'pineapple']\n",
    "\n",
    "# Filtrando las recetas que contengan al menos 1 ingredieente de la lista o mas\n",
    "recipes = recipes[recipes['ingredients'].apply(lambda x: any([k in x for k in ingredients]))]\n",
    "len(recipes)"
   ]
  },
  {
   "cell_type": "code",
   "execution_count": 80,
   "metadata": {},
   "outputs": [
    {
     "data": {
      "text/plain": [
       "11191"
      ]
     },
     "execution_count": 80,
     "metadata": {},
     "output_type": "execute_result"
    }
   ],
   "source": [
    "# Filtrando receptas que contengan 20 ingredientes o menos\n",
    "max_len = 20\n",
    "recipes = recipes[recipes['ingredients'].apply(lambda x: all(len(i) <= max_len for i in x))]\n",
    "len(recipes)"
   ]
  },
  {
   "cell_type": "code",
   "execution_count": 81,
   "metadata": {},
   "outputs": [],
   "source": [
    "recipes.to_csv('recipes.csv', index=False)\n"
   ]
  },
  {
   "cell_type": "code",
   "execution_count": 82,
   "metadata": {},
   "outputs": [
    {
     "data": {
      "text/html": [
       "<div>\n",
       "<style scoped>\n",
       "    .dataframe tbody tr th:only-of-type {\n",
       "        vertical-align: middle;\n",
       "    }\n",
       "\n",
       "    .dataframe tbody tr th {\n",
       "        vertical-align: top;\n",
       "    }\n",
       "\n",
       "    .dataframe thead th {\n",
       "        text-align: right;\n",
       "    }\n",
       "</style>\n",
       "<table border=\"1\" class=\"dataframe\">\n",
       "  <thead>\n",
       "    <tr style=\"text-align: right;\">\n",
       "      <th></th>\n",
       "      <th>name</th>\n",
       "      <th>id</th>\n",
       "      <th>minutes</th>\n",
       "      <th>contributor_id</th>\n",
       "      <th>submitted</th>\n",
       "      <th>tags</th>\n",
       "      <th>nutrition</th>\n",
       "      <th>n_steps</th>\n",
       "      <th>steps</th>\n",
       "      <th>description</th>\n",
       "      <th>ingredients</th>\n",
       "      <th>n_ingredients</th>\n",
       "    </tr>\n",
       "  </thead>\n",
       "  <tbody>\n",
       "    <tr>\n",
       "      <th>1</th>\n",
       "      <td>a bit different  breakfast pizza</td>\n",
       "      <td>31490</td>\n",
       "      <td>30</td>\n",
       "      <td>26278</td>\n",
       "      <td>2002-06-17</td>\n",
       "      <td>['30-minutes-or-less', 'time-to-make', 'course...</td>\n",
       "      <td>[173.4, 18.0, 0.0, 17.0, 22.0, 35.0, 1.0]</td>\n",
       "      <td>9</td>\n",
       "      <td>['preheat oven to 425 degrees f', 'press dough...</td>\n",
       "      <td>this recipe calls for the crust to be prebaked...</td>\n",
       "      <td>[prepared pizza crust, sausage patty, eggs, mi...</td>\n",
       "      <td>6</td>\n",
       "    </tr>\n",
       "    <tr>\n",
       "      <th>16</th>\n",
       "      <td>chile rellenos</td>\n",
       "      <td>43026</td>\n",
       "      <td>45</td>\n",
       "      <td>52268</td>\n",
       "      <td>2002-10-14</td>\n",
       "      <td>['60-minutes-or-less', 'time-to-make', 'course...</td>\n",
       "      <td>[94.0, 10.0, 0.0, 11.0, 11.0, 21.0, 0.0]</td>\n",
       "      <td>9</td>\n",
       "      <td>['drain green chiles', 'sprinkle cornstarch on...</td>\n",
       "      <td>a favorite from a local restaurant no longer i...</td>\n",
       "      <td>[egg roll wrap, whole green chilies, cheese, c...</td>\n",
       "      <td>5</td>\n",
       "    </tr>\n",
       "    <tr>\n",
       "      <th>23</th>\n",
       "      <td>deep fried dessert thingys</td>\n",
       "      <td>107699</td>\n",
       "      <td>20</td>\n",
       "      <td>158966</td>\n",
       "      <td>2005-01-05</td>\n",
       "      <td>['30-minutes-or-less', 'time-to-make', 'course...</td>\n",
       "      <td>[1663.3, 221.0, 168.0, 66.0, 19.0, 158.0, 29.0]</td>\n",
       "      <td>20</td>\n",
       "      <td>['in a large bowl , mix flour , granulated sug...</td>\n",
       "      <td>my mother used to make this for us as a specia...</td>\n",
       "      <td>[all-purpose flour, granulated sugar, baking p...</td>\n",
       "      <td>13</td>\n",
       "    </tr>\n",
       "    <tr>\n",
       "      <th>63</th>\n",
       "      <td>more  more    apple pear jigglers</td>\n",
       "      <td>63593</td>\n",
       "      <td>125</td>\n",
       "      <td>47858</td>\n",
       "      <td>2003-06-02</td>\n",
       "      <td>['weeknight', 'time-to-make', 'main-ingredient...</td>\n",
       "      <td>[22.9, 1.0, 5.0, 0.0, 1.0, 3.0, 0.0]</td>\n",
       "      <td>6</td>\n",
       "      <td>['in a food processor or blender , process the...</td>\n",
       "      <td>it's a fun finger food for infants and toddler...</td>\n",
       "      <td>[unflavored gelatin, milk, cream cheese, yogur...</td>\n",
       "      <td>6</td>\n",
       "    </tr>\n",
       "    <tr>\n",
       "      <th>66</th>\n",
       "      <td>my muffuletta sandwich</td>\n",
       "      <td>78655</td>\n",
       "      <td>20</td>\n",
       "      <td>12875</td>\n",
       "      <td>2003-12-12</td>\n",
       "      <td>['30-minutes-or-less', 'time-to-make', 'course...</td>\n",
       "      <td>[181.1, 26.0, 6.0, 17.0, 2.0, 11.0, 2.0]</td>\n",
       "      <td>3</td>\n",
       "      <td>['mix everything in food processor', 'chop fin...</td>\n",
       "      <td>watched a documentary about the</td>\n",
       "      <td>[ciabatta, provolone cheese, genoa salami, ham...</td>\n",
       "      <td>17</td>\n",
       "    </tr>\n",
       "  </tbody>\n",
       "</table>\n",
       "</div>"
      ],
      "text/plain": [
       "                                 name      id  minutes  contributor_id   \n",
       "1    a bit different  breakfast pizza   31490       30           26278  \\\n",
       "16                     chile rellenos   43026       45           52268   \n",
       "23         deep fried dessert thingys  107699       20          158966   \n",
       "63  more  more    apple pear jigglers   63593      125           47858   \n",
       "66             my muffuletta sandwich   78655       20           12875   \n",
       "\n",
       "     submitted                                               tags   \n",
       "1   2002-06-17  ['30-minutes-or-less', 'time-to-make', 'course...  \\\n",
       "16  2002-10-14  ['60-minutes-or-less', 'time-to-make', 'course...   \n",
       "23  2005-01-05  ['30-minutes-or-less', 'time-to-make', 'course...   \n",
       "63  2003-06-02  ['weeknight', 'time-to-make', 'main-ingredient...   \n",
       "66  2003-12-12  ['30-minutes-or-less', 'time-to-make', 'course...   \n",
       "\n",
       "                                          nutrition  n_steps   \n",
       "1         [173.4, 18.0, 0.0, 17.0, 22.0, 35.0, 1.0]        9  \\\n",
       "16         [94.0, 10.0, 0.0, 11.0, 11.0, 21.0, 0.0]        9   \n",
       "23  [1663.3, 221.0, 168.0, 66.0, 19.0, 158.0, 29.0]       20   \n",
       "63             [22.9, 1.0, 5.0, 0.0, 1.0, 3.0, 0.0]        6   \n",
       "66         [181.1, 26.0, 6.0, 17.0, 2.0, 11.0, 2.0]        3   \n",
       "\n",
       "                                                steps   \n",
       "1   ['preheat oven to 425 degrees f', 'press dough...  \\\n",
       "16  ['drain green chiles', 'sprinkle cornstarch on...   \n",
       "23  ['in a large bowl , mix flour , granulated sug...   \n",
       "63  ['in a food processor or blender , process the...   \n",
       "66  ['mix everything in food processor', 'chop fin...   \n",
       "\n",
       "                                          description   \n",
       "1   this recipe calls for the crust to be prebaked...  \\\n",
       "16  a favorite from a local restaurant no longer i...   \n",
       "23  my mother used to make this for us as a specia...   \n",
       "63  it's a fun finger food for infants and toddler...   \n",
       "66                   watched a documentary about the    \n",
       "\n",
       "                                          ingredients  n_ingredients  \n",
       "1   [prepared pizza crust, sausage patty, eggs, mi...              6  \n",
       "16  [egg roll wrap, whole green chilies, cheese, c...              5  \n",
       "23  [all-purpose flour, granulated sugar, baking p...             13  \n",
       "63  [unflavored gelatin, milk, cream cheese, yogur...              6  \n",
       "66  [ciabatta, provolone cheese, genoa salami, ham...             17  "
      ]
     },
     "execution_count": 82,
     "metadata": {},
     "output_type": "execute_result"
    }
   ],
   "source": [
    "recipes.head()"
   ]
  },
  {
   "cell_type": "code",
   "execution_count": 83,
   "metadata": {},
   "outputs": [],
   "source": [
    "# Representación binaria de los ingredientes\n",
    "mlb = MultiLabelBinarizer()\n",
    "ingredients_presence = mlb.fit_transform(recipes['ingredients'])\n",
    "\n",
    "# Tokenizacion de los ingredientes\n",
    "tokenizer = Tokenizer()\n",
    "tokenizer.fit_on_texts(recipes['ingredients'])\n",
    "sequences = tokenizer.texts_to_sequences(recipes['ingredients'])\n",
    "padded_sequences = pad_sequences(sequences)\n"
   ]
  },
  {
   "cell_type": "code",
   "execution_count": 84,
   "metadata": {},
   "outputs": [],
   "source": [
    "# Encoding del target (ID de la receta)\n",
    "label_encoder = LabelEncoder()\n",
    "encoded_labels = label_encoder.fit_transform(recipes['id'])\n",
    "one_hot_labels = to_categorical(encoded_labels)"
   ]
  },
  {
   "cell_type": "markdown",
   "metadata": {},
   "source": [
    "## Modelo con embedding"
   ]
  },
  {
   "cell_type": "code",
   "execution_count": 85,
   "metadata": {},
   "outputs": [
    {
     "name": "stdout",
     "output_type": "stream",
     "text": [
      "Epoch 1/15\n",
      "350/350 [==============================] - 2s 5ms/step - loss: 9.3842 - accuracy: 0.0000e+00\n",
      "Epoch 2/15\n",
      "350/350 [==============================] - 2s 5ms/step - loss: 9.3347 - accuracy: 0.0000e+00\n",
      "Epoch 3/15\n",
      "350/350 [==============================] - 2s 5ms/step - loss: 9.2029 - accuracy: 0.0018\n",
      "Epoch 4/15\n",
      "350/350 [==============================] - 2s 5ms/step - loss: 7.4106 - accuracy: 0.0748\n",
      "Epoch 5/15\n",
      "350/350 [==============================] - 2s 5ms/step - loss: 2.6031 - accuracy: 0.5277\n",
      "Epoch 6/15\n",
      "350/350 [==============================] - 2s 5ms/step - loss: 0.3588 - accuracy: 0.9218\n",
      "Epoch 7/15\n",
      "350/350 [==============================] - 2s 5ms/step - loss: 0.0917 - accuracy: 0.9796\n",
      "Epoch 8/15\n",
      "350/350 [==============================] - 2s 5ms/step - loss: 0.0540 - accuracy: 0.9872\n",
      "Epoch 9/15\n",
      "350/350 [==============================] - 2s 5ms/step - loss: 0.0437 - accuracy: 0.9900\n",
      "Epoch 10/15\n",
      "350/350 [==============================] - 2s 5ms/step - loss: 0.0381 - accuracy: 0.9920\n",
      "Epoch 11/15\n",
      "350/350 [==============================] - 2s 5ms/step - loss: 0.0328 - accuracy: 0.9932\n",
      "Epoch 12/15\n",
      "350/350 [==============================] - 2s 5ms/step - loss: 0.0317 - accuracy: 0.9935\n",
      "Epoch 13/15\n",
      "350/350 [==============================] - 2s 5ms/step - loss: 0.0264 - accuracy: 0.9944\n",
      "Epoch 14/15\n",
      "350/350 [==============================] - 2s 5ms/step - loss: 0.0267 - accuracy: 0.9943\n",
      "Epoch 15/15\n",
      "350/350 [==============================] - 2s 5ms/step - loss: 0.0241 - accuracy: 0.9946\n"
     ]
    }
   ],
   "source": [
    "# Hiperparametros del modelo\n",
    "vocab_size = len(tokenizer.word_index)+1\n",
    "embedding_dim = 100\n",
    "max_length = padded_sequences.shape[1]\n",
    "recipes_q = recipes['id'].nunique()\n",
    "\n",
    "# Construccion del modelo\n",
    "model = Sequential()\n",
    "model.add(Embedding(input_dim=vocab_size, output_dim=embedding_dim, input_length=max_length))\n",
    "model.add(Flatten())\n",
    "model.add(Dense(120, activation='relu'))\n",
    "model.add(Dense(recipes_q, activation='softmax'))\n",
    "\n",
    "# Compilacion del modelo\n",
    "model.compile(optimizer='adam', loss='categorical_crossentropy', metrics=['accuracy'])\n",
    "\n",
    "# Entrenamiento del modelo\n",
    "history = model.fit(padded_sequences, one_hot_labels, epochs=15, verbose=1)"
   ]
  },
  {
   "cell_type": "code",
   "execution_count": 86,
   "metadata": {},
   "outputs": [
    {
     "data": {
      "image/png": "[encoded data removed]",
      "text/plain": [
       "<Figure size 640x480 with 1 Axes>"
      ]
     },
     "metadata": {},
     "output_type": "display_data"
    }
   ],
   "source": [
    "plt.plot(history.history['loss'])\n",
    "plt.title('Model Loss')\n",
    "plt.xlabel('Epoch')\n",
    "plt.ylabel('Loss')\n",
    "plt.show()\n"
   ]
  },
  {
   "cell_type": "code",
   "execution_count": 87,
   "metadata": {},
   "outputs": [
    {
     "data": {
      "image/png": "[encoded data removed]",
      "text/plain": [
       "<Figure size 640x480 with 1 Axes>"
      ]
     },
     "metadata": {},
     "output_type": "display_data"
    }
   ],
   "source": [
    "plt.plot(history.history['accuracy'])\n",
    "plt.title('Model Accuracy')\n",
    "plt.xlabel('Epoch')\n",
    "plt.ylabel('Accuracy')\n",
    "plt.show()\n"
   ]
  },
  {
   "cell_type": "code",
   "execution_count": 88,
   "metadata": {},
   "outputs": [
    {
     "name": "stdout",
     "output_type": "stream",
     "text": [
      "1/1 [==============================] - 0s 28ms/step\n",
      "[9518] 30 second sandwich: 92.82%\n",
      "[531520] cheeze bread: 2.84%\n",
      "[37603] cheese pulls: 1.82%\n"
     ]
    }
   ],
   "source": [
    "try_ingredients = ['bread', 'cheese']\n",
    "try_ingredients_sequence = tokenizer.texts_to_sequences([try_ingredients])\n",
    "try_ingredients_padded = pad_sequences(try_ingredients_sequence, maxlen=padded_sequences.shape[1])\n",
    "\n",
    "predictions = model.predict(try_ingredients_padded)\n",
    "predicted_recipe_id = label_encoder.inverse_transform([np.argmax(predictions)])\n",
    "\n",
    "# Top 3 de recetas mas probables\n",
    "top_3 = predictions.argsort()[0][-3:][::-1]\n",
    "for i in top_3:\n",
    "    recipe_id = label_encoder.inverse_transform([i])[0]\n",
    "    recipe_name = recipes[recipes['id'] == recipe_id]['name'].values[0]\n",
    "    probability = predictions[0][i]\n",
    "    print(f'[{recipe_id}] {recipe_name}: {probability*100:.2f}%')"
   ]
  },
  {
   "cell_type": "markdown",
   "metadata": {},
   "source": [
    "## Modelo sin embedding"
   ]
  },
  {
   "cell_type": "code",
   "execution_count": 89,
   "metadata": {},
   "outputs": [
    {
     "name": "stdout",
     "output_type": "stream",
     "text": [
      "Epoch 1/15\n",
      "350/350 [==============================] - 1s 4ms/step - loss: 9.3839 - accuracy: 0.0000e+00\n",
      "Epoch 2/15\n",
      "350/350 [==============================] - 1s 3ms/step - loss: 9.3118 - accuracy: 6.2550e-04\n",
      "Epoch 3/15\n",
      "350/350 [==============================] - 1s 3ms/step - loss: 8.1446 - accuracy: 0.0132\n",
      "Epoch 4/15\n",
      "350/350 [==============================] - 1s 3ms/step - loss: 4.7747 - accuracy: 0.2414\n",
      "Epoch 5/15\n",
      "350/350 [==============================] - 1s 4ms/step - loss: 1.6980 - accuracy: 0.6672\n",
      "Epoch 6/15\n",
      "350/350 [==============================] - 1s 4ms/step - loss: 0.3930 - accuracy: 0.9239\n",
      "Epoch 7/15\n",
      "350/350 [==============================] - 1s 4ms/step - loss: 0.1456 - accuracy: 0.9719\n",
      "Epoch 8/15\n",
      "350/350 [==============================] - 1s 4ms/step - loss: 0.0880 - accuracy: 0.9816\n",
      "Epoch 9/15\n",
      "350/350 [==============================] - 1s 4ms/step - loss: 0.0682 - accuracy: 0.9852\n",
      "Epoch 10/15\n",
      "350/350 [==============================] - 1s 4ms/step - loss: 0.0581 - accuracy: 0.9861\n",
      "Epoch 11/15\n",
      "350/350 [==============================] - 1s 4ms/step - loss: 0.0524 - accuracy: 0.9882\n",
      "Epoch 12/15\n",
      "350/350 [==============================] - 1s 4ms/step - loss: 0.0474 - accuracy: 0.9888\n",
      "Epoch 13/15\n",
      "350/350 [==============================] - 1s 4ms/step - loss: 0.0443 - accuracy: 0.9893\n",
      "Epoch 14/15\n",
      "350/350 [==============================] - 1s 4ms/step - loss: 0.0427 - accuracy: 0.9894\n",
      "Epoch 15/15\n",
      "350/350 [==============================] - 1s 4ms/step - loss: 0.0413 - accuracy: 0.9894\n"
     ]
    }
   ],
   "source": [
    "# Construccion del modelo\n",
    "model = Sequential()\n",
    "model.add(Dense(128, input_dim=ingredients_presence.shape[1], activation='relu'))\n",
    "model.add(Dense(64, activation='relu'))\n",
    "model.add(Dense(recipes_q, activation='softmax'))\n",
    "\n",
    "# Compilacion del modelo\n",
    "model.compile(optimizer='adam', loss='categorical_crossentropy', metrics=['accuracy'])\n",
    "\n",
    "# Entrenamiento del modelo\n",
    "history = model.fit(ingredients_presence, one_hot_labels, epochs=15, verbose=1)"
   ]
  },
  {
   "cell_type": "code",
   "execution_count": 90,
   "metadata": {},
   "outputs": [
    {
     "data": {
      "image/png": "[encoded data removed]",
      "text/plain": [
       "<Figure size 640x480 with 1 Axes>"
      ]
     },
     "metadata": {},
     "output_type": "display_data"
    }
   ],
   "source": [
    "plt.plot(history.history['loss'])\n",
    "plt.title('Model Loss')\n",
    "plt.xlabel('Epoch')\n",
    "plt.ylabel('Loss')\n",
    "plt.show()\n"
   ]
  },
  {
   "cell_type": "code",
   "execution_count": 91,
   "metadata": {},
   "outputs": [
    {
     "data": {
      "image/png": "[encoded data removed]",
      "text/plain": [
       "<Figure size 640x480 with 1 Axes>"
      ]
     },
     "metadata": {},
     "output_type": "display_data"
    }
   ],
   "source": [
    "plt.plot(history.history['accuracy'])\n",
    "plt.title('Model Accuracy')\n",
    "plt.xlabel('Epoch')\n",
    "plt.ylabel('Accuracy')\n",
    "plt.show()\n"
   ]
  },
  {
   "cell_type": "code",
   "execution_count": 92,
   "metadata": {},
   "outputs": [
    {
     "name": "stdout",
     "output_type": "stream",
     "text": [
      "1/1 [==============================] - 0s 30ms/step\n",
      "[531520] cheeze bread: 83.13%\n",
      "[9518] 30 second sandwich: 8.42%\n",
      "[468219] caramelized cheese covered grilled cheese sandwich: 1.68%\n"
     ]
    }
   ],
   "source": [
    "input_binary = mlb.transform([try_ingredients])\n",
    "\n",
    "# Predicciones\n",
    "predictions = model.predict(np.array(input_binary))[0]\n",
    "\n",
    "# Top 3 de recetas mas probables\n",
    "top_3 = predictions.argsort()[-3:][::-1]\n",
    "for i in top_3:\n",
    "    recipe_id = label_encoder.inverse_transform([i])[0]\n",
    "    recipe_name = recipes[recipes['id'] == recipe_id]['name'].values[0]\n",
    "    probability = predictions[i]\n",
    "    print(f'[{recipe_id}] {recipe_name}: {probability*100:.2f}%')\n",
    "    "
   ]
  }
 ],
 "metadata": {
  "kernelspec": {
   "display_name": "Python 3",
   "language": "python",
   "name": "python3"
  },
  "language_info": {
   "codemirror_mode": {
    "name": "ipython",
    "version": 3
   },
   "file_extension": ".py",
   "mimetype": "text/x-python",
   "name": "python",
   "nbconvert_exporter": "python",
   "pygments_lexer": "ipython3",
   "version": "3.11.3"
  }
 },
 "nbformat": 4,
 "nbformat_minor": 2
}
