{
 "cells": [
  {
   "cell_type": "code",
   "execution_count": 83,
   "metadata": {},
   "outputs": [],
   "source": [
    "from torch_snippets import *\n",
    "import selectivesearch\n",
    "from torch.utils.data import Dataset, DataLoader\n",
    "from torchvision import transforms, models, datasets\n",
    "from torchvision.ops import nms\n",
    "import pandas as pd\n",
    "import torch"
   ]
  },
  {
   "cell_type": "markdown",
   "metadata": {},
   "source": [
    "# Generando datasets para entrenar el modelo"
   ]
  },
  {
   "cell_type": "code",
   "execution_count": null,
   "metadata": {},
   "outputs": [],
   "source": []
  },
  {
   "cell_type": "code",
   "execution_count": 40,
   "metadata": {},
   "outputs": [],
   "source": [
    "# oi_download_dataset --csv_dir google_images/annotations --base_dir google_images/images --labels Carrot Tomato Apple Banana Orange Bread Cheese Mango Broccoli Grape Lemon Pineapple --format pascal --limit 1000\n",
    "IMAGE_FOLDER='google_images/images'\n",
    "IMAGE_CLASSES = ['apple', 'banana', 'bread', 'broccoli', 'carrot', 'cheese', 'grape', 'lemon', 'mango', 'orange', 'pineapple', 'tomato']\n",
    "class ImageDataset(Dataset):\n",
    "\tdef __init__(self, df, image_folder):\n",
    "\t\tself.df = df\n",
    "\t\tself.image_folder = image_folder\n",
    "\t\tself.unique_images = df['file_name'].unique()\n",
    "\tdef __len__(self):\n",
    "\t\treturn len(self.unique_images)\n",
    "\n",
    "\tdef __getitem__(self, index):\n",
    "\t\timage_file = self.unique_images[index]\n",
    "\t\timage_df = self.df[self.df['file_name'] == image_file]\n",
    "\t\timage_class = image_df['label'].values[0]\n",
    "\t\timage_path = f'{self.image_folder}/{image_class}/images/{image_file}'\n",
    "\t\timage = cv2.imread(image_path, 1)[...,::-1] # BGR to RGB\n",
    "\t\tbboxes = image_df[['xmin', 'ymin', 'xmax', 'ymax']].values\n",
    "\t\timage_classes = image_df['label'].values\n",
    "\t\treturn image, np.array(bboxes, dtype=np.float32), list(image_classes), image_file\n",
    "\t\t"
   ]
  },
  {
   "cell_type": "markdown",
   "metadata": {},
   "source": [
    "## Extraer las regiones propuestas para cada imagen y guradrar en un csv los bbs"
   ]
  },
  {
   "cell_type": "code",
   "execution_count": 96,
   "metadata": {},
   "outputs": [],
   "source": [
    "import glob\n",
    "from bs4 import BeautifulSoup\n",
    "df_cols = ['file_name', 'label', 'xmin', 'ymin', 'xmax', 'ymax']\n",
    "def generate_df():\n",
    "\tdf = pd.DataFrame(columns=df_cols)\n",
    "\tfor image_class in IMAGE_CLASSES:\n",
    "\t\txml_files = glob.glob(f'{IMAGE_FOLDER}/{image_class}/pascal/*.xml')\n",
    "\t\tfor i, xml_file in enumerate(xml_files):\n",
    "\t\t\t# Only 200 images per class\n",
    "\t\t\tif i > 200:\n",
    "\t\t\t\tbreak\n",
    "\t\t\twith open(xml_file) as f:\n",
    "\t\t\t\tsoup = BeautifulSoup(f, 'xml')\n",
    "\t\t\t\tfilename = soup.find('filename').text\n",
    "\t\t\t\tfor obj in soup.find_all('object'):\n",
    "\t\t\t\t\t# The obj must have the class name\n",
    "\t\t\t\t\tif obj.find('name').text != image_class:\n",
    "\t\t\t\t\t\tcontinue\n",
    "\t\t\t\t\tbbox = obj.find('bndbox')\n",
    "\t\t\t\t\txmin = int(bbox.find('xmin').text)\n",
    "\t\t\t\t\tymin = int(bbox.find('ymin').text)\n",
    "\t\t\t\t\txmax = int(bbox.find('xmax').text)\n",
    "\t\t\t\t\tymax = int(bbox.find('ymax').text)\n",
    "\t\t\t\t\trow_df = pd.DataFrame([[filename, image_class, xmin, ymin, xmax, ymax]], columns=df_cols)\n",
    "\t\t\t\t\tdf = pd.concat([df, row_df], ignore_index=True)\n",
    "\t\t\t\t\n",
    "\treturn df"
   ]
  },
  {
   "cell_type": "markdown",
   "metadata": {},
   "source": [
    "### Generando dataset para comida"
   ]
  },
  {
   "cell_type": "code",
   "execution_count": 97,
   "metadata": {},
   "outputs": [
    {
     "data": {
      "text/html": [
       "<div>\n",
       "<style scoped>\n",
       "    .dataframe tbody tr th:only-of-type {\n",
       "        vertical-align: middle;\n",
       "    }\n",
       "\n",
       "    .dataframe tbody tr th {\n",
       "        vertical-align: top;\n",
       "    }\n",
       "\n",
       "    .dataframe thead th {\n",
       "        text-align: right;\n",
       "    }\n",
       "</style>\n",
       "<table border=\"1\" class=\"dataframe\">\n",
       "  <thead>\n",
       "    <tr style=\"text-align: right;\">\n",
       "      <th></th>\n",
       "      <th>file_name</th>\n",
       "      <th>label</th>\n",
       "      <th>xmin</th>\n",
       "      <th>ymin</th>\n",
       "      <th>xmax</th>\n",
       "      <th>ymax</th>\n",
       "    </tr>\n",
       "  </thead>\n",
       "  <tbody>\n",
       "    <tr>\n",
       "      <th>0</th>\n",
       "      <td>89082d611f576fb9.jpg</td>\n",
       "      <td>apple</td>\n",
       "      <td>149</td>\n",
       "      <td>51</td>\n",
       "      <td>471</td>\n",
       "      <td>389</td>\n",
       "    </tr>\n",
       "    <tr>\n",
       "      <th>1</th>\n",
       "      <td>07fb5124cb5d0296.jpg</td>\n",
       "      <td>apple</td>\n",
       "      <td>32</td>\n",
       "      <td>202</td>\n",
       "      <td>597</td>\n",
       "      <td>765</td>\n",
       "    </tr>\n",
       "    <tr>\n",
       "      <th>2</th>\n",
       "      <td>0edbe76780629a8a.jpg</td>\n",
       "      <td>apple</td>\n",
       "      <td>522</td>\n",
       "      <td>263</td>\n",
       "      <td>1023</td>\n",
       "      <td>735</td>\n",
       "    </tr>\n",
       "    <tr>\n",
       "      <th>3</th>\n",
       "      <td>2ec0a7d75406b894.jpg</td>\n",
       "      <td>apple</td>\n",
       "      <td>277</td>\n",
       "      <td>97</td>\n",
       "      <td>822</td>\n",
       "      <td>632</td>\n",
       "    </tr>\n",
       "    <tr>\n",
       "      <th>4</th>\n",
       "      <td>2ec0a7d75406b894.jpg</td>\n",
       "      <td>apple</td>\n",
       "      <td>329</td>\n",
       "      <td>607</td>\n",
       "      <td>351</td>\n",
       "      <td>631</td>\n",
       "    </tr>\n",
       "  </tbody>\n",
       "</table>\n",
       "</div>"
      ],
      "text/plain": [
       "              file_name  label xmin ymin  xmax ymax\n",
       "0  89082d611f576fb9.jpg  apple  149   51   471  389\n",
       "1  07fb5124cb5d0296.jpg  apple   32  202   597  765\n",
       "2  0edbe76780629a8a.jpg  apple  522  263  1023  735\n",
       "3  2ec0a7d75406b894.jpg  apple  277   97   822  632\n",
       "4  2ec0a7d75406b894.jpg  apple  329  607   351  631"
      ]
     },
     "execution_count": 97,
     "metadata": {},
     "output_type": "execute_result"
    }
   ],
   "source": [
    "\n",
    "df = generate_df()\n",
    "# Save df as csv into images/dataset01\n",
    "df.to_csv('google_images/df.csv', index=False)\n",
    "\n",
    "df.head()"
   ]
  },
  {
   "cell_type": "code",
   "execution_count": 98,
   "metadata": {},
   "outputs": [
    {
     "data": {
      "text/html": [
       "<pre style=\"white-space:pre;overflow-x:auto;line-height:normal;font-family:Menlo,'DejaVu Sans Mono',consolas,'Courier New',monospace\">name <span style=\"color: #008000; text-decoration-color: #008000\">'torch'</span> is not defined\n",
       "</pre>\n"
      ],
      "text/plain": [
       "name \u001b[32m'torch'\u001b[0m is not defined\n"
      ]
     },
     "metadata": {},
     "output_type": "display_data"
    },
    {
     "data": {
      "image/png": "[encoded data removed]",
      "text/plain": [
       "<Figure size 200x200 with 1 Axes>"
      ]
     },
     "metadata": {},
     "output_type": "display_data"
    },
    {
     "data": {
      "text/html": [
       "<pre style=\"white-space:pre;overflow-x:auto;line-height:normal;font-family:Menlo,'DejaVu Sans Mono',consolas,'Courier New',monospace\"><span style=\"font-weight: bold\">(</span><span style=\"color: #008080; text-decoration-color: #008080; font-weight: bold\">768</span>, <span style=\"color: #008080; text-decoration-color: #008080; font-weight: bold\">1024</span>, <span style=\"color: #008080; text-decoration-color: #008080; font-weight: bold\">3</span><span style=\"font-weight: bold\">)</span>\n",
       "</pre>\n"
      ],
      "text/plain": [
       "\u001b[1m(\u001b[0m\u001b[1;36m768\u001b[0m, \u001b[1;36m1024\u001b[0m, \u001b[1;36m3\u001b[0m\u001b[1m)\u001b[0m\n"
      ]
     },
     "metadata": {},
     "output_type": "display_data"
    }
   ],
   "source": [
    "food_df = pd.read_csv('google_images/df.csv')\n",
    "image_ds = ImageDataset(food_df, IMAGE_FOLDER)\n",
    "image, bboxes, classes, image_file = image_ds[20]\n",
    "show(image, bbs=bboxes, texts=classes, sz=2, text_sz=10)\n",
    "print(image.shape)"
   ]
  },
  {
   "cell_type": "code",
   "execution_count": 82,
   "metadata": {},
   "outputs": [
    {
     "data": {
      "text/html": [
       "<pre style=\"white-space:pre;overflow-x:auto;line-height:normal;font-family:Menlo,'DejaVu Sans Mono',consolas,'Courier New',monospace\">name <span style=\"color: #008000; text-decoration-color: #008000\">'torch'</span> is not defined\n",
       "</pre>\n"
      ],
      "text/plain": [
       "name \u001b[32m'torch'\u001b[0m is not defined\n"
      ]
     },
     "metadata": {},
     "output_type": "display_data"
    },
    {
     "data": {
      "image/png": "[encoded data removed]",
      "text/plain": [
       "<Figure size 200x200 with 1 Axes>"
      ]
     },
     "metadata": {},
     "output_type": "display_data"
    }
   ],
   "source": [
    "def extract_candidates(img):\n",
    "  # img - (h,w,3)\n",
    "  candidates = []\n",
    "  img_lbl, regions = selectivesearch.selective_search(img, min_size=50,scale=150)\n",
    "  image_area = np.prod(img.shape[:2])\n",
    "  for r in regions:\n",
    "    if r in candidates: continue\n",
    "    if r['size'] < image_area * 0.05: continue\n",
    "    if r['size'] > image_area * 1: continue\n",
    "    candidates.append(list(r['rect']))\n",
    "  return candidates\n",
    "candidates = extract_candidates(image)\n",
    "\n",
    "show(image, bbs=candidates, texts=[f'{i}' for i in range(len(candidates))], sz=2, text_sz=10)"
   ]
  },
  {
   "cell_type": "code",
   "execution_count": 99,
   "metadata": {},
   "outputs": [],
   "source": [
    "def extract_iou(boxA, boxB, epsilon = 1e-5):\n",
    "  x1 = max(boxA[0], boxB[0])\n",
    "  y1 = max(boxA[1], boxB[1])\n",
    "  x2 = min(boxA[2], boxB[2])\n",
    "  y2 = min(boxA[3], boxB[3])\n",
    "  # Intersection area\n",
    "  width = x2 - x1\n",
    "  height = y2 - y1\n",
    "  intersection_area = width * height\n",
    "  boxA_area = (boxA[2] - boxA[0]) * (boxA[3] - boxA[1])\n",
    "  boxB_area = (boxB[2] - boxB[0]) * (boxB[3] - boxB[1])\n",
    "  total_area = (boxA_area + boxB_area) - intersection_area\n",
    "  iou = intersection_area / (total_area + epsilon)\n",
    "  return iou\n"
   ]
  },
  {
   "cell_type": "code",
   "execution_count": 101,
   "metadata": {},
   "outputs": [
    {
     "data": {
      "text/html": [
       "<pre style=\"white-space:pre;overflow-x:auto;line-height:normal;font-family:Menlo,'DejaVu Sans Mono',consolas,'Courier New',monospace\">Parsed <span style=\"color: #008080; text-decoration-color: #008080; font-weight: bold\">0</span>/<span style=\"color: #008080; text-decoration-color: #008080; font-weight: bold\">1965</span> images\n",
       "</pre>\n"
      ],
      "text/plain": [
       "Parsed \u001b[1;36m0\u001b[0m/\u001b[1;36m1965\u001b[0m images\n"
      ]
     },
     "metadata": {},
     "output_type": "display_data"
    },
    {
     "data": {
      "text/html": [
       "<pre style=\"white-space:pre;overflow-x:auto;line-height:normal;font-family:Menlo,'DejaVu Sans Mono',consolas,'Courier New',monospace\">Parsed <span style=\"color: #008080; text-decoration-color: #008080; font-weight: bold\">100</span>/<span style=\"color: #008080; text-decoration-color: #008080; font-weight: bold\">1965</span> images\n",
       "</pre>\n"
      ],
      "text/plain": [
       "Parsed \u001b[1;36m100\u001b[0m/\u001b[1;36m1965\u001b[0m images\n"
      ]
     },
     "metadata": {},
     "output_type": "display_data"
    },
    {
     "data": {
      "text/html": [
       "<pre style=\"white-space:pre;overflow-x:auto;line-height:normal;font-family:Menlo,'DejaVu Sans Mono',consolas,'Courier New',monospace\">Parsed <span style=\"color: #008080; text-decoration-color: #008080; font-weight: bold\">200</span>/<span style=\"color: #008080; text-decoration-color: #008080; font-weight: bold\">1965</span> images\n",
       "</pre>\n"
      ],
      "text/plain": [
       "Parsed \u001b[1;36m200\u001b[0m/\u001b[1;36m1965\u001b[0m images\n"
      ]
     },
     "metadata": {},
     "output_type": "display_data"
    },
    {
     "data": {
      "text/html": [
       "<pre style=\"white-space:pre;overflow-x:auto;line-height:normal;font-family:Menlo,'DejaVu Sans Mono',consolas,'Courier New',monospace\">Parsed <span style=\"color: #008080; text-decoration-color: #008080; font-weight: bold\">300</span>/<span style=\"color: #008080; text-decoration-color: #008080; font-weight: bold\">1965</span> images\n",
       "</pre>\n"
      ],
      "text/plain": [
       "Parsed \u001b[1;36m300\u001b[0m/\u001b[1;36m1965\u001b[0m images\n"
      ]
     },
     "metadata": {},
     "output_type": "display_data"
    },
    {
     "data": {
      "text/html": [
       "<pre style=\"white-space:pre;overflow-x:auto;line-height:normal;font-family:Menlo,'DejaVu Sans Mono',consolas,'Courier New',monospace\">Parsed <span style=\"color: #008080; text-decoration-color: #008080; font-weight: bold\">400</span>/<span style=\"color: #008080; text-decoration-color: #008080; font-weight: bold\">1965</span> images\n",
       "</pre>\n"
      ],
      "text/plain": [
       "Parsed \u001b[1;36m400\u001b[0m/\u001b[1;36m1965\u001b[0m images\n"
      ]
     },
     "metadata": {},
     "output_type": "display_data"
    },
    {
     "data": {
      "text/html": [
       "<pre style=\"white-space:pre;overflow-x:auto;line-height:normal;font-family:Menlo,'DejaVu Sans Mono',consolas,'Courier New',monospace\">Parsed <span style=\"color: #008080; text-decoration-color: #008080; font-weight: bold\">500</span>/<span style=\"color: #008080; text-decoration-color: #008080; font-weight: bold\">1965</span> images\n",
       "</pre>\n"
      ],
      "text/plain": [
       "Parsed \u001b[1;36m500\u001b[0m/\u001b[1;36m1965\u001b[0m images\n"
      ]
     },
     "metadata": {},
     "output_type": "display_data"
    },
    {
     "data": {
      "text/html": [
       "<pre style=\"white-space:pre;overflow-x:auto;line-height:normal;font-family:Menlo,'DejaVu Sans Mono',consolas,'Courier New',monospace\">Parsed <span style=\"color: #008080; text-decoration-color: #008080; font-weight: bold\">600</span>/<span style=\"color: #008080; text-decoration-color: #008080; font-weight: bold\">1965</span> images\n",
       "</pre>\n"
      ],
      "text/plain": [
       "Parsed \u001b[1;36m600\u001b[0m/\u001b[1;36m1965\u001b[0m images\n"
      ]
     },
     "metadata": {},
     "output_type": "display_data"
    },
    {
     "data": {
      "text/html": [
       "<pre style=\"white-space:pre;overflow-x:auto;line-height:normal;font-family:Menlo,'DejaVu Sans Mono',consolas,'Courier New',monospace\">Parsed <span style=\"color: #008080; text-decoration-color: #008080; font-weight: bold\">700</span>/<span style=\"color: #008080; text-decoration-color: #008080; font-weight: bold\">1965</span> images\n",
       "</pre>\n"
      ],
      "text/plain": [
       "Parsed \u001b[1;36m700\u001b[0m/\u001b[1;36m1965\u001b[0m images\n"
      ]
     },
     "metadata": {},
     "output_type": "display_data"
    },
    {
     "data": {
      "text/html": [
       "<pre style=\"white-space:pre;overflow-x:auto;line-height:normal;font-family:Menlo,'DejaVu Sans Mono',consolas,'Courier New',monospace\">Parsed <span style=\"color: #008080; text-decoration-color: #008080; font-weight: bold\">800</span>/<span style=\"color: #008080; text-decoration-color: #008080; font-weight: bold\">1965</span> images\n",
       "</pre>\n"
      ],
      "text/plain": [
       "Parsed \u001b[1;36m800\u001b[0m/\u001b[1;36m1965\u001b[0m images\n"
      ]
     },
     "metadata": {},
     "output_type": "display_data"
    },
    {
     "data": {
      "text/html": [
       "<pre style=\"white-space:pre;overflow-x:auto;line-height:normal;font-family:Menlo,'DejaVu Sans Mono',consolas,'Courier New',monospace\">Parsed <span style=\"color: #008080; text-decoration-color: #008080; font-weight: bold\">900</span>/<span style=\"color: #008080; text-decoration-color: #008080; font-weight: bold\">1965</span> images\n",
       "</pre>\n"
      ],
      "text/plain": [
       "Parsed \u001b[1;36m900\u001b[0m/\u001b[1;36m1965\u001b[0m images\n"
      ]
     },
     "metadata": {},
     "output_type": "display_data"
    },
    {
     "data": {
      "text/html": [
       "<pre style=\"white-space:pre;overflow-x:auto;line-height:normal;font-family:Menlo,'DejaVu Sans Mono',consolas,'Courier New',monospace\">Parsed <span style=\"color: #008080; text-decoration-color: #008080; font-weight: bold\">1000</span>/<span style=\"color: #008080; text-decoration-color: #008080; font-weight: bold\">1965</span> images\n",
       "</pre>\n"
      ],
      "text/plain": [
       "Parsed \u001b[1;36m1000\u001b[0m/\u001b[1;36m1965\u001b[0m images\n"
      ]
     },
     "metadata": {},
     "output_type": "display_data"
    },
    {
     "data": {
      "text/html": [
       "<pre style=\"white-space:pre;overflow-x:auto;line-height:normal;font-family:Menlo,'DejaVu Sans Mono',consolas,'Courier New',monospace\">Parsed <span style=\"color: #008080; text-decoration-color: #008080; font-weight: bold\">1100</span>/<span style=\"color: #008080; text-decoration-color: #008080; font-weight: bold\">1965</span> images\n",
       "</pre>\n"
      ],
      "text/plain": [
       "Parsed \u001b[1;36m1100\u001b[0m/\u001b[1;36m1965\u001b[0m images\n"
      ]
     },
     "metadata": {},
     "output_type": "display_data"
    },
    {
     "data": {
      "text/html": [
       "<pre style=\"white-space:pre;overflow-x:auto;line-height:normal;font-family:Menlo,'DejaVu Sans Mono',consolas,'Courier New',monospace\">Parsed <span style=\"color: #008080; text-decoration-color: #008080; font-weight: bold\">1200</span>/<span style=\"color: #008080; text-decoration-color: #008080; font-weight: bold\">1965</span> images\n",
       "</pre>\n"
      ],
      "text/plain": [
       "Parsed \u001b[1;36m1200\u001b[0m/\u001b[1;36m1965\u001b[0m images\n"
      ]
     },
     "metadata": {},
     "output_type": "display_data"
    },
    {
     "data": {
      "text/html": [
       "<pre style=\"white-space:pre;overflow-x:auto;line-height:normal;font-family:Menlo,'DejaVu Sans Mono',consolas,'Courier New',monospace\">Parsed <span style=\"color: #008080; text-decoration-color: #008080; font-weight: bold\">1300</span>/<span style=\"color: #008080; text-decoration-color: #008080; font-weight: bold\">1965</span> images\n",
       "</pre>\n"
      ],
      "text/plain": [
       "Parsed \u001b[1;36m1300\u001b[0m/\u001b[1;36m1965\u001b[0m images\n"
      ]
     },
     "metadata": {},
     "output_type": "display_data"
    },
    {
     "data": {
      "text/html": [
       "<pre style=\"white-space:pre;overflow-x:auto;line-height:normal;font-family:Menlo,'DejaVu Sans Mono',consolas,'Courier New',monospace\">Parsed <span style=\"color: #008080; text-decoration-color: #008080; font-weight: bold\">1400</span>/<span style=\"color: #008080; text-decoration-color: #008080; font-weight: bold\">1965</span> images\n",
       "</pre>\n"
      ],
      "text/plain": [
       "Parsed \u001b[1;36m1400\u001b[0m/\u001b[1;36m1965\u001b[0m images\n"
      ]
     },
     "metadata": {},
     "output_type": "display_data"
    },
    {
     "data": {
      "text/html": [
       "<pre style=\"white-space:pre;overflow-x:auto;line-height:normal;font-family:Menlo,'DejaVu Sans Mono',consolas,'Courier New',monospace\">Parsed <span style=\"color: #008080; text-decoration-color: #008080; font-weight: bold\">1500</span>/<span style=\"color: #008080; text-decoration-color: #008080; font-weight: bold\">1965</span> images\n",
       "</pre>\n"
      ],
      "text/plain": [
       "Parsed \u001b[1;36m1500\u001b[0m/\u001b[1;36m1965\u001b[0m images\n"
      ]
     },
     "metadata": {},
     "output_type": "display_data"
    },
    {
     "data": {
      "text/html": [
       "<pre style=\"white-space:pre;overflow-x:auto;line-height:normal;font-family:Menlo,'DejaVu Sans Mono',consolas,'Courier New',monospace\">Parsed <span style=\"color: #008080; text-decoration-color: #008080; font-weight: bold\">1600</span>/<span style=\"color: #008080; text-decoration-color: #008080; font-weight: bold\">1965</span> images\n",
       "</pre>\n"
      ],
      "text/plain": [
       "Parsed \u001b[1;36m1600\u001b[0m/\u001b[1;36m1965\u001b[0m images\n"
      ]
     },
     "metadata": {},
     "output_type": "display_data"
    },
    {
     "data": {
      "text/html": [
       "<pre style=\"white-space:pre;overflow-x:auto;line-height:normal;font-family:Menlo,'DejaVu Sans Mono',consolas,'Courier New',monospace\">Parsed <span style=\"color: #008080; text-decoration-color: #008080; font-weight: bold\">1700</span>/<span style=\"color: #008080; text-decoration-color: #008080; font-weight: bold\">1965</span> images\n",
       "</pre>\n"
      ],
      "text/plain": [
       "Parsed \u001b[1;36m1700\u001b[0m/\u001b[1;36m1965\u001b[0m images\n"
      ]
     },
     "metadata": {},
     "output_type": "display_data"
    },
    {
     "data": {
      "text/html": [
       "<pre style=\"white-space:pre;overflow-x:auto;line-height:normal;font-family:Menlo,'DejaVu Sans Mono',consolas,'Courier New',monospace\">Parsed <span style=\"color: #008080; text-decoration-color: #008080; font-weight: bold\">1800</span>/<span style=\"color: #008080; text-decoration-color: #008080; font-weight: bold\">1965</span> images\n",
       "</pre>\n"
      ],
      "text/plain": [
       "Parsed \u001b[1;36m1800\u001b[0m/\u001b[1;36m1965\u001b[0m images\n"
      ]
     },
     "metadata": {},
     "output_type": "display_data"
    },
    {
     "data": {
      "text/html": [
       "<pre style=\"white-space:pre;overflow-x:auto;line-height:normal;font-family:Menlo,'DejaVu Sans Mono',consolas,'Courier New',monospace\">Parsed <span style=\"color: #008080; text-decoration-color: #008080; font-weight: bold\">1900</span>/<span style=\"color: #008080; text-decoration-color: #008080; font-weight: bold\">1965</span> images\n",
       "</pre>\n"
      ],
      "text/plain": [
       "Parsed \u001b[1;36m1900\u001b[0m/\u001b[1;36m1965\u001b[0m images\n"
      ]
     },
     "metadata": {},
     "output_type": "display_data"
    }
   ],
   "source": [
    "import warnings\n",
    "warnings.filterwarnings('ignore')\n",
    "FPATHS, GTBBS, CLSS ,DELTAS, ROIS, IOUS = [], [], [], [], [], []\n",
    "\n",
    "# For each image on the ds\n",
    "for ix, (image, bboxes, classes, image_file) in enumerate(image_ds):\n",
    "\t\n",
    "\tH, W, _ = image.shape\n",
    "\tclss, deltas, rois, ious = [], [], [], []\n",
    "\t# 1. Extract the candidates\n",
    "\tcandidates = extract_candidates(image)\n",
    "\t# 1.1 Pass the candidates to xmin, ymin, xmax, ymax format\n",
    "\tcandidates = np.array([[x,y,x+w,y+h] for (x,y,w,h) in candidates])\n",
    "\t# 2. Extract the IOUS for each candidate and the ground truth bbs the final shape is (len(candidates), len(ground_truth_bbs))\n",
    "\tious = np.array([[extract_iou(candidate, _bb_) for candidate in candidates] for _bb_ in bboxes]).T\n",
    "\t# 3. For each candidate\n",
    "\tfor jx, candidate in enumerate(candidates):\n",
    "\t\t# 3.1 Extract the ious for the candidate\n",
    "\t\tcandidate_ious = ious[jx]\n",
    "\t\t# 3.2 Extract the coordinates for the candidate\n",
    "\t\tcx, cy, cX, cY = candidate\n",
    "\t\t# 3.3 Extract the best iou\n",
    "\t\tbest_iou_idx = np.argmax(candidate_ious)\n",
    "\t\tbest_iou = candidate_ious[best_iou_idx]\n",
    "\t\t# 3.4 Extract the best iou coordinates\n",
    "\t\tbest_iou_bb = _x, _y, _X, _Y = bboxes[best_iou_idx]\n",
    "\t\t# 3.5 If the best iou is > 0.3 then the candidate is a positive sample - if not it is background\n",
    "\t\tif best_iou > 0.3:\n",
    "\t\t\tclss.append(classes[best_iou_idx])\n",
    "\t\telse:\n",
    "\t\t\tclss.append('background')\n",
    "\t\t# 3.6 Extract the deltas for the candidate - divide by the image width and height\n",
    "\t\tdelta = np.array([_x - cx, _y - cy, _X - cX, _Y - cY]) / np.array([W, H, W, H])\n",
    "\t\troi = np.array([cx, cy, cX, cY]) / np.array([W, H, W, H])\n",
    "\t\tdeltas.append(delta)\n",
    "\t\trois.append(roi)\n",
    "\t\t\n",
    "\t# 4. Append image path\n",
    "\tFPATHS.append(image_file)\n",
    "\t# 4. append rois\n",
    "\tROIS.append(rois)\n",
    "\t# 4. append deltas\n",
    "\tDELTAS.append(deltas)\n",
    "\t# 4. append ious\n",
    "\tIOUS.append(ious)\n",
    "\t# 4. append ground truth bbs\n",
    "\tGTBBS.append(bboxes)\n",
    "\t# 4. append classes\n",
    "\tCLSS.append(clss)\n",
    "\tif ix % 100 == 0:\n",
    "\t\tprint(f\"Parsed {ix}/{len(image_ds)} images\")\n",
    " "
   ]
  },
  {
   "cell_type": "code",
   "execution_count": 102,
   "metadata": {},
   "outputs": [],
   "source": [
    "# Save the data to a csv\n",
    "df = pd.DataFrame(columns=['file_path', 'x', 'y','X','Y', 'dx', 'dy', 'dX', 'dY','class'])\n",
    "for ix, (fpath, clss, deltas, rois) in enumerate(zip(FPATHS, CLSS, DELTAS, ROIS)):\n",
    "\t# If the clss is full of background then skip it\n",
    "\tif all([c == 'background' for c in clss]):\n",
    "\t\tcontinue\n",
    "\t# This will run for each image\n",
    "\tfor jx, (cls, delta, roi) in enumerate(zip( clss, deltas, rois)):\n",
    "\t\t\n",
    "\t\tx, y, X, Y = roi\n",
    "\t\tdx, dy, dX, dY = delta\n",
    "\t\t# Create a row\n",
    "\t\trow = [fpath, x, y, X, Y, dx, dy, dX, dY, cls]\n",
    "\t\tdf.loc[len(df)] = row\n",
    "\t\t"
   ]
  },
  {
   "cell_type": "code",
   "execution_count": 113,
   "metadata": {},
   "outputs": [],
   "source": [
    "original_df = generate_df()\n",
    "# Add the real label for each row on the df using the original df\n",
    "df['label'] = df['file_path'].apply(lambda x: original_df[original_df['file_name'] == x.split('/')[-1]]['label'].values[0])"
   ]
  },
  {
   "cell_type": "code",
   "execution_count": 115,
   "metadata": {},
   "outputs": [],
   "source": [
    "# Save the dataset\n",
    "df.to_csv('datasets/ds_images.csv', index=False)\n"
   ]
  },
  {
   "cell_type": "code",
   "execution_count": 112,
   "metadata": {},
   "outputs": [
    {
     "data": {
      "text/html": [
       "<pre style=\"white-space:pre;overflow-x:auto;line-height:normal;font-family:Menlo,'DejaVu Sans Mono',consolas,'Courier New',monospace\"><span style=\"color: #008080; text-decoration-color: #008080; font-weight: bold\">1965</span>\n",
       "</pre>\n"
      ],
      "text/plain": [
       "\u001b[1;36m1965\u001b[0m\n"
      ]
     },
     "metadata": {},
     "output_type": "display_data"
    }
   ],
   "source": [
    "FPATHS = df['file_path'].unique()\n",
    "# Extract clss from the df\n",
    "CLSS = [df[df['file_path'] == fpath]['class'].values for fpath in FPATHS]\n",
    "# Extract deltas from the df\n",
    "DELTAS = [df[df['file_path'] == fpath][['dx','dy','dX','dY']].values for fpath in FPATHS]\n",
    "# Extract rois from the df\n",
    "ROIS = [df[df['file_path'] == fpath][['x','y','X','Y']].values for fpath in FPATHS]\n"
   ]
  },
  {
   "cell_type": "code",
   "execution_count": 215,
   "metadata": {},
   "outputs": [],
   "source": [
    "targets = pd.DataFrame(flatten(CLSS), columns=['label'])\n",
    "label2target = {l:t for t,l in enumerate(targets['label'].unique())}\n",
    "target2label = {t:l for l,t in label2target.items()}\n",
    "background_class = label2target['background']"
   ]
  },
  {
   "cell_type": "code",
   "execution_count": 224,
   "metadata": {},
   "outputs": [],
   "source": [
    "normalize = transforms.Normalize(mean=[0.485,0.456,0.406], std=[0.229,0.224,0.225]) # why these numbers\n",
    "def preprocess_image(img):\n",
    "  img = torch.tensor(img).permute(2,0,1)  # h, w, c - c, h, w\n",
    "  img = normalize(img)\n",
    "  return img.to(device).float()\n",
    "def decode(_y):\n",
    "  _, preds = _y.max(-1)\n",
    "  return preds\n",
    "\n",
    "class RCNNDataset(Dataset):\n",
    "  def __init__(self, fpaths, rois, labels, deltas):\n",
    "    self.fpaths = fpaths\n",
    "    self.rois = rois\n",
    "    self.labels = labels\n",
    "    self.deltas = deltas\n",
    "  def __len__(self): return len(self.fpaths)\n",
    "  def __getitem__(self, ix):\n",
    "    fpath = str(self.fpaths[ix])\n",
    "    image_path = f'{IMAGE_FOLDER}/{fpath}'\n",
    "    image = cv2.imread(image_path, 1)[...,::-1]\n",
    "    H,W,_ = image.shape\n",
    "    sh = np.array([W,H,W,H])\n",
    "    rois = self.rois[ix]\n",
    "    bbs = (np.array(rois)*sh).astype(np.uint16)\n",
    "    labels = self.labels[ix]\n",
    "    deltas = self.deltas[ix]\n",
    "    crops = [image[y:Y,x:X] for (x,y,X,Y) in bbs]\n",
    "    return image, crops, bbs, labels, deltas, fpath\n",
    "\n",
    "  def collate_fn(self, batch):\n",
    "    input, rois, rixs, labels, deltas = [], [], [], [], []\n",
    "    for ix in range(len(batch)):\n",
    "      image,crops,image_bbs,image_labels,image_deltas,image_fpath = batch[ix]\n",
    "      crops = [cv2.resize(crop, (244,244)) for crop in crops]\n",
    "      crops = [preprocess_image(crop/255.)[None] for crop in crops]\n",
    "      input.extend(crops)\n",
    "      labels.extend([label2target[c] for c in image_labels])\n",
    "      deltas.extend(image_deltas)\n",
    "    input = torch.cat(input).to(device)\n",
    "    labels = torch.Tensor(labels).long().to(device)\n",
    "    deltas = torch.Tensor(deltas).float().to(device)\n",
    "    return input, labels, deltas"
   ]
  },
  {
   "cell_type": "code",
   "execution_count": 225,
   "metadata": {},
   "outputs": [],
   "source": [
    "n_train = 9*len(FPATHS)//10\n",
    "train_ds = RCNNDataset(FPATHS[:n_train], ROIS[:n_train], CLSS[:n_train],DELTAS[:n_train],)\n",
    "test_ds = RCNNDataset(FPATHS[n_train:], ROIS[n_train:], CLSS[n_train:],DELTAS[n_train:],)"
   ]
  },
  {
   "cell_type": "code",
   "execution_count": 226,
   "metadata": {},
   "outputs": [],
   "source": [
    "from torch.utils.data import TensorDataset, DataLoader\n",
    "train_loader = DataLoader(train_ds, batch_size=2, collate_fn=train_ds.collate_fn, drop_last=True)\n",
    "test_loader = DataLoader(test_ds, batch_size=2, collate_fn=test_ds.collate_fn, drop_last=True)"
   ]
  },
  {
   "cell_type": "code",
   "execution_count": null,
   "metadata": {},
   "outputs": [],
   "source": []
  }
 ],
 "metadata": {
  "kernelspec": {
   "display_name": "Python 3",
   "language": "python",
   "name": "python3"
  },
  "language_info": {
   "codemirror_mode": {
    "name": "ipython",
    "version": 3
   },
   "file_extension": ".py",
   "mimetype": "text/x-python",
   "name": "python",
   "nbconvert_exporter": "python",
   "pygments_lexer": "ipython3",
   "version": "3.11.4"
  }
 },
 "nbformat": 4,
 "nbformat_minor": 2
}
