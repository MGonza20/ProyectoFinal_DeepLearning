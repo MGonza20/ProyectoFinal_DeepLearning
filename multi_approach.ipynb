{
 "cells": [
  {
   "cell_type": "markdown",
   "metadata": {},
   "source": [
    "# Modelo de recomendación de recetas"
   ]
  },
  {
   "cell_type": "markdown",
   "metadata": {},
   "source": [
    "### Librerías necesarias"
   ]
  },
  {
   "cell_type": "code",
   "execution_count": 46,
   "metadata": {},
   "outputs": [],
   "source": [
    "# For data manipulation\n",
    "import ast\n",
    "import numpy as np\n",
    "import pandas as pd\n",
    "\n",
    "# For data preprocessing\n",
    "from sklearn.preprocessing import MultiLabelBinarizer\n",
    "from tensorflow.keras.preprocessing.text import Tokenizer\n",
    "from tensorflow.keras.preprocessing.sequence import pad_sequences\n",
    "\n",
    "# For model building\n",
    "from sklearn.model_selection import train_test_split\n",
    "from tensorflow.keras.models import Sequential\n",
    "from tensorflow.keras.layers import Embedding, Flatten, Dense\n",
    "\n",
    "# For graph plotting\n",
    "import matplotlib.pyplot as plt\n",
    "\n",
    "# For model evaluation\n",
    "from sklearn.metrics import hamming_loss, classification_report\n",
    "from sklearn.metrics import jaccard_score\n",
    "from collections import Counter\n"
   ]
  },
  {
   "cell_type": "code",
   "execution_count": 47,
   "metadata": {},
   "outputs": [
    {
     "data": {
      "text/html": [
       "<div>\n",
       "<style scoped>\n",
       "    .dataframe tbody tr th:only-of-type {\n",
       "        vertical-align: middle;\n",
       "    }\n",
       "\n",
       "    .dataframe tbody tr th {\n",
       "        vertical-align: top;\n",
       "    }\n",
       "\n",
       "    .dataframe thead th {\n",
       "        text-align: right;\n",
       "    }\n",
       "</style>\n",
       "<table border=\"1\" class=\"dataframe\">\n",
       "  <thead>\n",
       "    <tr style=\"text-align: right;\">\n",
       "      <th></th>\n",
       "      <th>name</th>\n",
       "      <th>id</th>\n",
       "      <th>minutes</th>\n",
       "      <th>contributor_id</th>\n",
       "      <th>submitted</th>\n",
       "      <th>tags</th>\n",
       "      <th>nutrition</th>\n",
       "      <th>n_steps</th>\n",
       "      <th>steps</th>\n",
       "      <th>description</th>\n",
       "      <th>ingredients</th>\n",
       "      <th>n_ingredients</th>\n",
       "    </tr>\n",
       "  </thead>\n",
       "  <tbody>\n",
       "    <tr>\n",
       "      <th>0</th>\n",
       "      <td>arriba   baked winter squash mexican style</td>\n",
       "      <td>137739</td>\n",
       "      <td>55</td>\n",
       "      <td>47892</td>\n",
       "      <td>2005-09-16</td>\n",
       "      <td>['60-minutes-or-less', 'time-to-make', 'course...</td>\n",
       "      <td>[51.5, 0.0, 13.0, 0.0, 2.0, 0.0, 4.0]</td>\n",
       "      <td>11</td>\n",
       "      <td>['make a choice and proceed with recipe', 'dep...</td>\n",
       "      <td>autumn is my favorite time of year to cook! th...</td>\n",
       "      <td>[winter squash, mexican seasoning, mixed spice...</td>\n",
       "      <td>7</td>\n",
       "    </tr>\n",
       "    <tr>\n",
       "      <th>1</th>\n",
       "      <td>a bit different  breakfast pizza</td>\n",
       "      <td>31490</td>\n",
       "      <td>30</td>\n",
       "      <td>26278</td>\n",
       "      <td>2002-06-17</td>\n",
       "      <td>['30-minutes-or-less', 'time-to-make', 'course...</td>\n",
       "      <td>[173.4, 18.0, 0.0, 17.0, 22.0, 35.0, 1.0]</td>\n",
       "      <td>9</td>\n",
       "      <td>['preheat oven to 425 degrees f', 'press dough...</td>\n",
       "      <td>this recipe calls for the crust to be prebaked...</td>\n",
       "      <td>[prepared pizza crust, sausage patty, eggs, mi...</td>\n",
       "      <td>6</td>\n",
       "    </tr>\n",
       "    <tr>\n",
       "      <th>2</th>\n",
       "      <td>all in the kitchen  chili</td>\n",
       "      <td>112140</td>\n",
       "      <td>130</td>\n",
       "      <td>196586</td>\n",
       "      <td>2005-02-25</td>\n",
       "      <td>['time-to-make', 'course', 'preparation', 'mai...</td>\n",
       "      <td>[269.8, 22.0, 32.0, 48.0, 39.0, 27.0, 5.0]</td>\n",
       "      <td>6</td>\n",
       "      <td>['brown ground beef in large pot', 'add choppe...</td>\n",
       "      <td>this modified version of 'mom's' chili was a h...</td>\n",
       "      <td>[ground beef, yellow onions, diced tomatoes, t...</td>\n",
       "      <td>13</td>\n",
       "    </tr>\n",
       "    <tr>\n",
       "      <th>3</th>\n",
       "      <td>alouette  potatoes</td>\n",
       "      <td>59389</td>\n",
       "      <td>45</td>\n",
       "      <td>68585</td>\n",
       "      <td>2003-04-14</td>\n",
       "      <td>['60-minutes-or-less', 'time-to-make', 'course...</td>\n",
       "      <td>[368.1, 17.0, 10.0, 2.0, 14.0, 8.0, 20.0]</td>\n",
       "      <td>11</td>\n",
       "      <td>['place potatoes in a large pot of lightly sal...</td>\n",
       "      <td>this is a super easy, great tasting, make ahea...</td>\n",
       "      <td>[spreadable cheese with garlic and herbs, new ...</td>\n",
       "      <td>11</td>\n",
       "    </tr>\n",
       "    <tr>\n",
       "      <th>4</th>\n",
       "      <td>amish  tomato ketchup  for canning</td>\n",
       "      <td>44061</td>\n",
       "      <td>190</td>\n",
       "      <td>41706</td>\n",
       "      <td>2002-10-25</td>\n",
       "      <td>['weeknight', 'time-to-make', 'course', 'main-...</td>\n",
       "      <td>[352.9, 1.0, 337.0, 23.0, 3.0, 0.0, 28.0]</td>\n",
       "      <td>5</td>\n",
       "      <td>['mix all ingredients&amp; boil for 2 1 / 2 hours ...</td>\n",
       "      <td>my dh's amish mother raised him on this recipe...</td>\n",
       "      <td>[tomato juice, apple cider vinegar, sugar, sal...</td>\n",
       "      <td>8</td>\n",
       "    </tr>\n",
       "  </tbody>\n",
       "</table>\n",
       "</div>"
      ],
      "text/plain": [
       "                                         name      id  minutes   \n",
       "0  arriba   baked winter squash mexican style  137739       55  \\\n",
       "1            a bit different  breakfast pizza   31490       30   \n",
       "2                   all in the kitchen  chili  112140      130   \n",
       "3                          alouette  potatoes   59389       45   \n",
       "4          amish  tomato ketchup  for canning   44061      190   \n",
       "\n",
       "   contributor_id   submitted   \n",
       "0           47892  2005-09-16  \\\n",
       "1           26278  2002-06-17   \n",
       "2          196586  2005-02-25   \n",
       "3           68585  2003-04-14   \n",
       "4           41706  2002-10-25   \n",
       "\n",
       "                                                tags   \n",
       "0  ['60-minutes-or-less', 'time-to-make', 'course...  \\\n",
       "1  ['30-minutes-or-less', 'time-to-make', 'course...   \n",
       "2  ['time-to-make', 'course', 'preparation', 'mai...   \n",
       "3  ['60-minutes-or-less', 'time-to-make', 'course...   \n",
       "4  ['weeknight', 'time-to-make', 'course', 'main-...   \n",
       "\n",
       "                                    nutrition  n_steps   \n",
       "0       [51.5, 0.0, 13.0, 0.0, 2.0, 0.0, 4.0]       11  \\\n",
       "1   [173.4, 18.0, 0.0, 17.0, 22.0, 35.0, 1.0]        9   \n",
       "2  [269.8, 22.0, 32.0, 48.0, 39.0, 27.0, 5.0]        6   \n",
       "3   [368.1, 17.0, 10.0, 2.0, 14.0, 8.0, 20.0]       11   \n",
       "4   [352.9, 1.0, 337.0, 23.0, 3.0, 0.0, 28.0]        5   \n",
       "\n",
       "                                               steps   \n",
       "0  ['make a choice and proceed with recipe', 'dep...  \\\n",
       "1  ['preheat oven to 425 degrees f', 'press dough...   \n",
       "2  ['brown ground beef in large pot', 'add choppe...   \n",
       "3  ['place potatoes in a large pot of lightly sal...   \n",
       "4  ['mix all ingredients& boil for 2 1 / 2 hours ...   \n",
       "\n",
       "                                         description   \n",
       "0  autumn is my favorite time of year to cook! th...  \\\n",
       "1  this recipe calls for the crust to be prebaked...   \n",
       "2  this modified version of 'mom's' chili was a h...   \n",
       "3  this is a super easy, great tasting, make ahea...   \n",
       "4  my dh's amish mother raised him on this recipe...   \n",
       "\n",
       "                                         ingredients  n_ingredients  \n",
       "0  [winter squash, mexican seasoning, mixed spice...              7  \n",
       "1  [prepared pizza crust, sausage patty, eggs, mi...              6  \n",
       "2  [ground beef, yellow onions, diced tomatoes, t...             13  \n",
       "3  [spreadable cheese with garlic and herbs, new ...             11  \n",
       "4  [tomato juice, apple cider vinegar, sugar, sal...              8  "
      ]
     },
     "execution_count": 47,
     "metadata": {},
     "output_type": "execute_result"
    }
   ],
   "source": [
    "recipes = pd.read_csv(\"data/RAW_recipes.csv\")\n",
    "recipes['ingredients'] = recipes['ingredients'].apply(ast.literal_eval)\n",
    "recipes.head()"
   ]
  },
  {
   "cell_type": "code",
   "execution_count": 48,
   "metadata": {},
   "outputs": [
    {
     "data": {
      "text/plain": [
       "{'cheese': 2712,\n",
       " 'apple': 1604,\n",
       " 'bread': 1903,\n",
       " 'carrot': 6707,\n",
       " 'broccoli': 1508,\n",
       " 'banana': 2327,\n",
       " 'mango': 700,\n",
       " 'pineapple': 756,\n",
       " 'orange': 999}"
      ]
     },
     "execution_count": 48,
     "metadata": {},
     "output_type": "execute_result"
    }
   ],
   "source": [
    "ingredients = ['apple', 'banana', 'orange', 'tomato', 'carrot', 'bread', 'cheese', 'mango', 'broccoli', 'grape', 'lemmon', 'pineapple']\n",
    "\n",
    "ingredients_count = {}\n",
    "for row in recipes['ingredients']:\n",
    "    for ingredient in row:\n",
    "        if ingredient in ingredients:\n",
    "            if ingredient in ingredients_count: ingredients_count[ingredient] += 1\n",
    "            else: ingredients_count[ingredient] = 1\n",
    "\n",
    "ingredients_count"
   ]
  },
  {
   "cell_type": "code",
   "execution_count": 49,
   "metadata": {},
   "outputs": [
    {
     "data": {
      "text/plain": [
       "231637"
      ]
     },
     "execution_count": 49,
     "metadata": {},
     "output_type": "execute_result"
    }
   ],
   "source": [
    "len(recipes)"
   ]
  },
  {
   "cell_type": "code",
   "execution_count": 50,
   "metadata": {},
   "outputs": [
    {
     "data": {
      "text/plain": [
       "18122"
      ]
     },
     "execution_count": 50,
     "metadata": {},
     "output_type": "execute_result"
    }
   ],
   "source": [
    "# Filtering recipes that contain at least one of the selected ingredients\n",
    "recipes = recipes[recipes['ingredients'].apply(lambda x: any([k in x for k in ingredients]))]\n",
    "len(recipes)"
   ]
  },
  {
   "cell_type": "code",
   "execution_count": 51,
   "metadata": {},
   "outputs": [],
   "source": [
    "#recipes = recipes[:60000]"
   ]
  },
  {
   "cell_type": "code",
   "execution_count": 52,
   "metadata": {},
   "outputs": [
    {
     "data": {
      "text/plain": [
       "11191"
      ]
     },
     "execution_count": 52,
     "metadata": {},
     "output_type": "execute_result"
    }
   ],
   "source": [
    "# Just leaving ingredients with a max length of 20 characters\n",
    "max_len = 20\n",
    "recipes = recipes[recipes['ingredients'].apply(lambda x: all(len(i) <= max_len for i in x))]\n",
    "len(recipes)"
   ]
  },
  {
   "cell_type": "code",
   "execution_count": 53,
   "metadata": {},
   "outputs": [
    {
     "data": {
      "text/plain": [
       "11191"
      ]
     },
     "execution_count": 53,
     "metadata": {},
     "output_type": "execute_result"
    }
   ],
   "source": [
    "# Removing ingredients that are not in the list\n",
    "recipes['ingredients'] = recipes['ingredients'].apply(lambda x: [i for i in x if i in ingredients])\n",
    "len(recipes)"
   ]
  },
  {
   "cell_type": "code",
   "execution_count": 54,
   "metadata": {},
   "outputs": [
    {
     "data": {
      "text/plain": [
       "array([[0, 0, 0, ..., 0, 0, 0],\n",
       "       [0, 0, 0, ..., 0, 0, 0],\n",
       "       [0, 0, 1, ..., 0, 0, 0],\n",
       "       ...,\n",
       "       [0, 0, 0, ..., 0, 0, 0],\n",
       "       [0, 0, 0, ..., 0, 0, 0],\n",
       "       [0, 0, 0, ..., 0, 0, 0]])"
      ]
     },
     "execution_count": 54,
     "metadata": {},
     "output_type": "execute_result"
    }
   ],
   "source": [
    "# Applying MultiLabelBinarizer to the ingredients column\n",
    "mlb = MultiLabelBinarizer()\n",
    "Y = mlb.fit_transform(recipes['ingredients'])\n",
    "Y"
   ]
  },
  {
   "cell_type": "code",
   "execution_count": 55,
   "metadata": {},
   "outputs": [
    {
     "data": {
      "text/plain": [
       "9"
      ]
     },
     "execution_count": 55,
     "metadata": {},
     "output_type": "execute_result"
    }
   ],
   "source": [
    "ingredients_list = recipes['ingredients'].explode().unique().tolist()\n",
    "ingredients_list = [str(ingredient) for ingredient in ingredients_list if pd.notna(ingredient)]\n",
    "len(ingredients_list)"
   ]
  },
  {
   "cell_type": "code",
   "execution_count": 56,
   "metadata": {},
   "outputs": [
    {
     "data": {
      "text/html": [
       "<div>\n",
       "<style scoped>\n",
       "    .dataframe tbody tr th:only-of-type {\n",
       "        vertical-align: middle;\n",
       "    }\n",
       "\n",
       "    .dataframe tbody tr th {\n",
       "        vertical-align: top;\n",
       "    }\n",
       "\n",
       "    .dataframe thead th {\n",
       "        text-align: right;\n",
       "    }\n",
       "</style>\n",
       "<table border=\"1\" class=\"dataframe\">\n",
       "  <thead>\n",
       "    <tr style=\"text-align: right;\">\n",
       "      <th></th>\n",
       "      <th>name</th>\n",
       "      <th>id</th>\n",
       "      <th>minutes</th>\n",
       "      <th>contributor_id</th>\n",
       "      <th>submitted</th>\n",
       "      <th>tags</th>\n",
       "      <th>nutrition</th>\n",
       "      <th>n_steps</th>\n",
       "      <th>steps</th>\n",
       "      <th>description</th>\n",
       "      <th>ingredients</th>\n",
       "      <th>n_ingredients</th>\n",
       "      <th>ingredients_code</th>\n",
       "    </tr>\n",
       "  </thead>\n",
       "  <tbody>\n",
       "    <tr>\n",
       "      <th>1</th>\n",
       "      <td>a bit different  breakfast pizza</td>\n",
       "      <td>31490</td>\n",
       "      <td>30</td>\n",
       "      <td>26278</td>\n",
       "      <td>2002-06-17</td>\n",
       "      <td>['30-minutes-or-less', 'time-to-make', 'course...</td>\n",
       "      <td>[173.4, 18.0, 0.0, 17.0, 22.0, 35.0, 1.0]</td>\n",
       "      <td>9</td>\n",
       "      <td>['preheat oven to 425 degrees f', 'press dough...</td>\n",
       "      <td>this recipe calls for the crust to be prebaked...</td>\n",
       "      <td>[cheese]</td>\n",
       "      <td>6</td>\n",
       "      <td>[1]</td>\n",
       "    </tr>\n",
       "    <tr>\n",
       "      <th>16</th>\n",
       "      <td>chile rellenos</td>\n",
       "      <td>43026</td>\n",
       "      <td>45</td>\n",
       "      <td>52268</td>\n",
       "      <td>2002-10-14</td>\n",
       "      <td>['60-minutes-or-less', 'time-to-make', 'course...</td>\n",
       "      <td>[94.0, 10.0, 0.0, 11.0, 11.0, 21.0, 0.0]</td>\n",
       "      <td>9</td>\n",
       "      <td>['drain green chiles', 'sprinkle cornstarch on...</td>\n",
       "      <td>a favorite from a local restaurant no longer i...</td>\n",
       "      <td>[cheese]</td>\n",
       "      <td>5</td>\n",
       "      <td>[1]</td>\n",
       "    </tr>\n",
       "    <tr>\n",
       "      <th>23</th>\n",
       "      <td>deep fried dessert thingys</td>\n",
       "      <td>107699</td>\n",
       "      <td>20</td>\n",
       "      <td>158966</td>\n",
       "      <td>2005-01-05</td>\n",
       "      <td>['30-minutes-or-less', 'time-to-make', 'course...</td>\n",
       "      <td>[1663.3, 221.0, 168.0, 66.0, 19.0, 158.0, 29.0]</td>\n",
       "      <td>20</td>\n",
       "      <td>['in a large bowl , mix flour , granulated sug...</td>\n",
       "      <td>my mother used to make this for us as a specia...</td>\n",
       "      <td>[bread]</td>\n",
       "      <td>13</td>\n",
       "      <td>[2]</td>\n",
       "    </tr>\n",
       "    <tr>\n",
       "      <th>63</th>\n",
       "      <td>more  more    apple pear jigglers</td>\n",
       "      <td>63593</td>\n",
       "      <td>125</td>\n",
       "      <td>47858</td>\n",
       "      <td>2003-06-02</td>\n",
       "      <td>['weeknight', 'time-to-make', 'main-ingredient...</td>\n",
       "      <td>[22.9, 1.0, 5.0, 0.0, 1.0, 3.0, 0.0]</td>\n",
       "      <td>6</td>\n",
       "      <td>['in a food processor or blender , process the...</td>\n",
       "      <td>it's a fun finger food for infants and toddler...</td>\n",
       "      <td>[apple]</td>\n",
       "      <td>6</td>\n",
       "      <td>[3]</td>\n",
       "    </tr>\n",
       "    <tr>\n",
       "      <th>66</th>\n",
       "      <td>my muffuletta sandwich</td>\n",
       "      <td>78655</td>\n",
       "      <td>20</td>\n",
       "      <td>12875</td>\n",
       "      <td>2003-12-12</td>\n",
       "      <td>['30-minutes-or-less', 'time-to-make', 'course...</td>\n",
       "      <td>[181.1, 26.0, 6.0, 17.0, 2.0, 11.0, 2.0]</td>\n",
       "      <td>3</td>\n",
       "      <td>['mix everything in food processor', 'chop fin...</td>\n",
       "      <td>watched a documentary about the</td>\n",
       "      <td>[carrot]</td>\n",
       "      <td>17</td>\n",
       "      <td>[4]</td>\n",
       "    </tr>\n",
       "  </tbody>\n",
       "</table>\n",
       "</div>"
      ],
      "text/plain": [
       "                                 name      id  minutes  contributor_id   \n",
       "1    a bit different  breakfast pizza   31490       30           26278  \\\n",
       "16                     chile rellenos   43026       45           52268   \n",
       "23         deep fried dessert thingys  107699       20          158966   \n",
       "63  more  more    apple pear jigglers   63593      125           47858   \n",
       "66             my muffuletta sandwich   78655       20           12875   \n",
       "\n",
       "     submitted                                               tags   \n",
       "1   2002-06-17  ['30-minutes-or-less', 'time-to-make', 'course...  \\\n",
       "16  2002-10-14  ['60-minutes-or-less', 'time-to-make', 'course...   \n",
       "23  2005-01-05  ['30-minutes-or-less', 'time-to-make', 'course...   \n",
       "63  2003-06-02  ['weeknight', 'time-to-make', 'main-ingredient...   \n",
       "66  2003-12-12  ['30-minutes-or-less', 'time-to-make', 'course...   \n",
       "\n",
       "                                          nutrition  n_steps   \n",
       "1         [173.4, 18.0, 0.0, 17.0, 22.0, 35.0, 1.0]        9  \\\n",
       "16         [94.0, 10.0, 0.0, 11.0, 11.0, 21.0, 0.0]        9   \n",
       "23  [1663.3, 221.0, 168.0, 66.0, 19.0, 158.0, 29.0]       20   \n",
       "63             [22.9, 1.0, 5.0, 0.0, 1.0, 3.0, 0.0]        6   \n",
       "66         [181.1, 26.0, 6.0, 17.0, 2.0, 11.0, 2.0]        3   \n",
       "\n",
       "                                                steps   \n",
       "1   ['preheat oven to 425 degrees f', 'press dough...  \\\n",
       "16  ['drain green chiles', 'sprinkle cornstarch on...   \n",
       "23  ['in a large bowl , mix flour , granulated sug...   \n",
       "63  ['in a food processor or blender , process the...   \n",
       "66  ['mix everything in food processor', 'chop fin...   \n",
       "\n",
       "                                          description ingredients   \n",
       "1   this recipe calls for the crust to be prebaked...    [cheese]  \\\n",
       "16  a favorite from a local restaurant no longer i...    [cheese]   \n",
       "23  my mother used to make this for us as a specia...     [bread]   \n",
       "63  it's a fun finger food for infants and toddler...     [apple]   \n",
       "66                   watched a documentary about the     [carrot]   \n",
       "\n",
       "    n_ingredients ingredients_code  \n",
       "1               6              [1]  \n",
       "16              5              [1]  \n",
       "23             13              [2]  \n",
       "63              6              [3]  \n",
       "66             17              [4]  "
      ]
     },
     "execution_count": 56,
     "metadata": {},
     "output_type": "execute_result"
    }
   ],
   "source": [
    "# Tokenizing the ingredients\n",
    "tokenizer = Tokenizer()\n",
    "tokenizer.fit_on_texts(ingredients_list)\n",
    "\n",
    "# Creating a new column with the tokenized ingredients\n",
    "recipes['ingredients_code'] = tokenizer.texts_to_sequences(recipes['ingredients'])\n",
    "\n",
    "# Padding the sequences\n",
    "X = pad_sequences(recipes['ingredients_code'], maxlen=max_len, padding='post')\n",
    "\n",
    "recipes.head()"
   ]
  },
  {
   "cell_type": "code",
   "execution_count": 57,
   "metadata": {},
   "outputs": [
    {
     "name": "stdout",
     "output_type": "stream",
     "text": [
      "Epoch 1/10\n",
      "280/280 [==============================] - 1s 1ms/step - loss: 0.1553 - val_loss: 0.0202\n",
      "Epoch 2/10\n",
      "280/280 [==============================] - 0s 1ms/step - loss: 0.0094 - val_loss: 0.0041\n",
      "Epoch 3/10\n",
      "280/280 [==============================] - 0s 1ms/step - loss: 0.0030 - val_loss: 0.0019\n",
      "Epoch 4/10\n",
      "280/280 [==============================] - 0s 1ms/step - loss: 0.0013 - val_loss: 0.0011\n",
      "Epoch 5/10\n",
      "280/280 [==============================] - 0s 1ms/step - loss: 7.4307e-04 - val_loss: 7.9086e-04\n",
      "Epoch 6/10\n",
      "280/280 [==============================] - 0s 1ms/step - loss: 4.2303e-04 - val_loss: 6.6253e-04\n",
      "Epoch 7/10\n",
      "280/280 [==============================] - 0s 1ms/step - loss: 2.4143e-04 - val_loss: 4.8667e-04\n",
      "Epoch 8/10\n",
      "280/280 [==============================] - 0s 1ms/step - loss: 1.5535e-04 - val_loss: 3.3687e-04\n",
      "Epoch 9/10\n",
      "280/280 [==============================] - 0s 1ms/step - loss: 1.0486e-04 - val_loss: 3.0868e-04\n",
      "Epoch 10/10\n",
      "280/280 [==============================] - 0s 1ms/step - loss: 8.0166e-05 - val_loss: 2.8360e-04\n"
     ]
    }
   ],
   "source": [
    "X_train, X_val, Y_train, Y_val = train_test_split(X, Y, test_size=0.2, random_state = 314)\n",
    "\n",
    "vocab_size = len(tokenizer.word_index) + 1\n",
    "embedding_dim = 100\n",
    "input_length = max_len\n",
    "\n",
    "model = Sequential()\n",
    "model.add(Embedding(input_dim = vocab_size , output_dim=embedding_dim, input_length=input_length))\n",
    "model.add(Flatten())\n",
    "model.add(Dense(128, activation='relu'))\n",
    "model.add(Dense(len(mlb.classes_), activation='sigmoid')) \n",
    "\n",
    "model.compile(optimizer='adam', loss='binary_crossentropy')\n",
    "\n",
    "history = model.fit(X_train, Y_train, epochs=10, batch_size=32, validation_data=(X_val, Y_val))\n"
   ]
  },
  {
   "cell_type": "code",
   "execution_count": 58,
   "metadata": {},
   "outputs": [
    {
     "data": {
      "image/png": "[encoded data removed]",
      "text/plain": [
       "<Figure size 640x480 with 1 Axes>"
      ]
     },
     "metadata": {},
     "output_type": "display_data"
    }
   ],
   "source": [
    "plt.plot(history.history['loss'], label='Training loss')\n",
    "plt.plot(history.history['val_loss'], label='Validation loss')\n",
    "plt.title('Training and Validation Loss')\n",
    "plt.ylabel('Loss')\n",
    "plt.xlabel('Epoch')\n",
    "plt.legend()\n",
    "plt.show()"
   ]
  },
  {
   "cell_type": "code",
   "execution_count": 59,
   "metadata": {},
   "outputs": [
    {
     "name": "stdout",
     "output_type": "stream",
     "text": [
      "70/70 [==============================] - 0s 864us/step\n",
      "              precision    recall  f1-score   support\n",
      "\n",
      "           0       1.00      1.00      1.00       226\n",
      "           1       1.00      1.00      1.00       299\n",
      "           2       1.00      1.00      1.00       299\n",
      "           3       1.00      1.00      1.00       159\n",
      "           4       1.00      1.00      1.00       721\n",
      "           5       1.00      1.00      1.00       350\n",
      "           6       1.00      1.00      1.00        74\n",
      "           7       1.00      0.99      1.00       136\n",
      "           8       1.00      0.99      1.00       112\n",
      "\n",
      "   micro avg       1.00      1.00      1.00      2376\n",
      "   macro avg       1.00      1.00      1.00      2376\n",
      "weighted avg       1.00      1.00      1.00      2376\n",
      " samples avg       1.00      1.00      1.00      2376\n",
      "\n"
     ]
    }
   ],
   "source": [
    "threshold = 0.5\n",
    "Y_pred = model.predict(X_val)\n",
    "Y_pred_binary = (Y_pred >= threshold).astype(int)\n",
    "\n",
    "# Calculating metrics\n",
    "print(classification_report(Y_val, Y_pred_binary))\n"
   ]
  },
  {
   "cell_type": "code",
   "execution_count": 60,
   "metadata": {},
   "outputs": [
    {
     "data": {
      "image/png": "[encoded data removed]",
      "text/plain": [
       "<Figure size 640x480 with 1 Axes>"
      ]
     },
     "metadata": {},
     "output_type": "display_data"
    }
   ],
   "source": [
    "all_labels = [label for sublist in recipes['ingredients'] for label in sublist]\n",
    "label_counts = Counter(all_labels)\n",
    "labels, counts = zip(*label_counts.items())\n",
    "\n",
    "plt.bar(labels, counts)\n",
    "plt.xlabel('Labels')\n",
    "plt.ylabel('Frequency')\n",
    "plt.xticks(rotation=90)\n",
    "plt.show()\n"
   ]
  },
  {
   "cell_type": "code",
   "execution_count": 61,
   "metadata": {},
   "outputs": [
    {
     "name": "stdout",
     "output_type": "stream",
     "text": [
      "Mean: 1327.6666666666667\n",
      "Standard deviation: 933.2198740561269\n",
      "Coefficient of variation: 0.7029022400623601\n"
     ]
    }
   ],
   "source": [
    "counts_vals = np.array(list(label_counts.values()))\n",
    "\n",
    "mean = np.mean(counts_vals)\n",
    "std_dev = np.std(counts_vals)\n",
    "coef_var = std_dev / mean\n",
    "\n",
    "print(f\"Mean: {mean}\")\n",
    "print(f\"Standard deviation: {std_dev}\")\n",
    "print(f\"Coefficient of variation: {coef_var}\")\n"
   ]
  },
  {
   "cell_type": "code",
   "execution_count": 62,
   "metadata": {},
   "outputs": [
    {
     "name": "stdout",
     "output_type": "stream",
     "text": [
      "Rare labels: []\n"
     ]
    },
    {
     "data": {
      "text/plain": [
       "0"
      ]
     },
     "execution_count": 62,
     "metadata": {},
     "output_type": "execute_result"
    }
   ],
   "source": [
    "threshold = 25\n",
    "rare_labels = [label for label, count in label_counts.items() if count < threshold]\n",
    "\n",
    "print(f\"Rare labels: {rare_labels}\")\n",
    "len(rare_labels)"
   ]
  },
  {
   "cell_type": "code",
   "execution_count": 63,
   "metadata": {},
   "outputs": [
    {
     "data": {
      "text/html": [
       "<div>\n",
       "<style scoped>\n",
       "    .dataframe tbody tr th:only-of-type {\n",
       "        vertical-align: middle;\n",
       "    }\n",
       "\n",
       "    .dataframe tbody tr th {\n",
       "        vertical-align: top;\n",
       "    }\n",
       "\n",
       "    .dataframe thead th {\n",
       "        text-align: right;\n",
       "    }\n",
       "</style>\n",
       "<table border=\"1\" class=\"dataframe\">\n",
       "  <thead>\n",
       "    <tr style=\"text-align: right;\">\n",
       "      <th></th>\n",
       "      <th>recipe_id</th>\n",
       "      <th>recipe_name</th>\n",
       "      <th>ingredients</th>\n",
       "    </tr>\n",
       "  </thead>\n",
       "  <tbody>\n",
       "    <tr>\n",
       "      <th>0</th>\n",
       "      <td>1</td>\n",
       "      <td>R1</td>\n",
       "      <td>[apple, banana, orange]</td>\n",
       "    </tr>\n",
       "    <tr>\n",
       "      <th>1</th>\n",
       "      <td>2</td>\n",
       "      <td>R2</td>\n",
       "      <td>[tomato, carrot, bread]</td>\n",
       "    </tr>\n",
       "    <tr>\n",
       "      <th>2</th>\n",
       "      <td>3</td>\n",
       "      <td>R3</td>\n",
       "      <td>[cheese, broccoli]</td>\n",
       "    </tr>\n",
       "    <tr>\n",
       "      <th>3</th>\n",
       "      <td>4</td>\n",
       "      <td>R4</td>\n",
       "      <td>[grape, lemmon, pineapple, apple]</td>\n",
       "    </tr>\n",
       "    <tr>\n",
       "      <th>4</th>\n",
       "      <td>5</td>\n",
       "      <td>R5</td>\n",
       "      <td>[apple, banana, orange, pineapple, mango]</td>\n",
       "    </tr>\n",
       "  </tbody>\n",
       "</table>\n",
       "</div>"
      ],
      "text/plain": [
       "   recipe_id recipe_name                                ingredients\n",
       "0          1          R1                    [apple, banana, orange]\n",
       "1          2          R2                    [tomato, carrot, bread]\n",
       "2          3          R3                         [cheese, broccoli]\n",
       "3          4          R4          [grape, lemmon, pineapple, apple]\n",
       "4          5          R5  [apple, banana, orange, pineapple, mango]"
      ]
     },
     "execution_count": 63,
     "metadata": {},
     "output_type": "execute_result"
    }
   ],
   "source": [
    "mock_data_set = {\n",
    "    'recipe_id': [1, 2, 3, 4, 5],\n",
    "    'recipe_name': ['R1', 'R2', 'R3', 'R4', 'R5'],\n",
    "    'ingredients': [\n",
    "        ['apple', 'banana', 'orange'],\n",
    "        ['tomato', 'carrot', 'bread'],\n",
    "        ['cheese', 'broccoli'],\n",
    "        ['grape', 'lemmon', 'pineapple', 'apple'],\n",
    "        ['apple', 'banana', 'orange', 'pineapple', 'mango']\n",
    "    ]\n",
    "}\n",
    "\n",
    "mock_df = pd.DataFrame(mock_data_set)\n",
    "mock_df.head()"
   ]
  },
  {
   "cell_type": "code",
   "execution_count": 64,
   "metadata": {},
   "outputs": [
    {
     "name": "stdout",
     "output_type": "stream",
     "text": [
      "1/1 [==============================] - 0s 11ms/step\n"
     ]
    },
    {
     "data": {
      "text/plain": [
       "array([[9.99998703e+01, 9.99940491e+01, 8.33984115e-04, 3.47626446e-05,\n",
       "        3.13659105e-03, 3.85633757e-05, 1.38079925e-02, 2.33681908e+01,\n",
       "        7.12878704e-02],\n",
       "       [4.00217308e-04, 4.58279188e-04, 9.98681793e+01, 9.16324730e-04,\n",
       "        9.99949722e+01, 1.02596255e-02, 6.94573671e-03, 9.32769384e-03,\n",
       "        2.06404638e-06],\n",
       "       [1.17677992e-05, 1.36105900e-05, 1.49705983e-03, 9.99732437e+01,\n",
       "        5.10453954e-02, 9.99999008e+01, 6.88440902e-11, 4.96683086e-08,\n",
       "        3.25554004e-03],\n",
       "       [9.95602875e+01, 5.95869496e-02, 9.28913746e-09, 2.75186226e-02,\n",
       "        1.77426875e-01, 2.41395429e-01, 1.99166359e-04, 6.70527061e-03,\n",
       "        9.99907761e+01],\n",
       "       [9.99996338e+01, 9.99953308e+01, 2.90215202e-03, 4.10890425e-05,\n",
       "        2.23905984e-02, 1.30856977e-04, 3.13544214e-01, 8.34267349e+01,\n",
       "        6.14669418e+00]], dtype=float32)"
      ]
     },
     "execution_count": 64,
     "metadata": {},
     "output_type": "execute_result"
    }
   ],
   "source": [
    "mock_df['ingredients_code'] = tokenizer.texts_to_sequences(mock_df['ingredients'])\n",
    "X_new = pad_sequences(mock_df['ingredients_code'], maxlen=max_len, padding='post')\n",
    "\n",
    "predictions = model.predict(X_new)\n",
    "predictions = predictions * 100\n",
    "predictions"
   ]
  },
  {
   "cell_type": "code",
   "execution_count": 65,
   "metadata": {},
   "outputs": [
    {
     "name": "stdout",
     "output_type": "stream",
     "text": [
      "1/1 [==============================] - 0s 11ms/step\n"
     ]
    },
    {
     "data": {
      "text/plain": [
       "array([[9.99998703e+01, 9.99940491e+01, 8.33983358e-04, 3.47626774e-05,\n",
       "        3.13659105e-03, 3.85634121e-05, 1.38080185e-02, 2.33681850e+01,\n",
       "        7.12878332e-02]], dtype=float32)"
      ]
     },
     "execution_count": 65,
     "metadata": {},
     "output_type": "execute_result"
    }
   ],
   "source": [
    "input_ingredients = ['apple', 'banana', 'orange']\n",
    "input_tokens = [tokenizer.word_index[ingredient] for ingredient in input_ingredients if ingredient in tokenizer.word_index]\n",
    "input_padded = pad_sequences([input_tokens], maxlen=max_len, padding='post')\n",
    "input_padded\n",
    "\n",
    "predictions = model.predict(input_padded)\n",
    "predictions = predictions * 100\n",
    "predictions"
   ]
  },
  {
   "cell_type": "code",
   "execution_count": 66,
   "metadata": {},
   "outputs": [
    {
     "name": "stdout",
     "output_type": "stream",
     "text": [
      "1/1 [==============================] - 0s 14ms/step\n"
     ]
    },
    {
     "data": {
      "text/plain": [
       "array([[9.9999855e+01, 9.9935188e+01, 4.5140879e-04, 3.6612961e-05,\n",
       "        1.6067998e-02, 2.4930213e-03, 1.6901793e-04, 2.8002618e-02,\n",
       "        5.3250082e-03]], dtype=float32)"
      ]
     },
     "execution_count": 66,
     "metadata": {},
     "output_type": "execute_result"
    }
   ],
   "source": [
    "input_ingredients = ['apple', 'banana']\n",
    "input_tokens = [tokenizer.word_index[ingredient] for ingredient in input_ingredients if ingredient in tokenizer.word_index]\n",
    "input_padded = pad_sequences([input_tokens], maxlen=max_len, padding='post')\n",
    "input_padded\n",
    "\n",
    "predictions = model.predict(input_padded)\n",
    "predictions = predictions * 100\n",
    "predictions"
   ]
  },
  {
   "cell_type": "markdown",
   "metadata": {},
   "source": [
    "1 - chili peppers - mexicana\n",
    "  - ingrediente 1 -  0.55\n",
    "  - ingrediente 2 - 0.78\n",
    "\n",
    "2 - pizza hawwaiana - us\n",
    "  - ingrediente 1 - 0.77\n",
    "  - ingrediente 3 - 0.88\n",
    "  - ingrediente 2 - 0.93\n",
    "\n",
    "pizza hawainna \n"
   ]
  }
 ],
 "metadata": {
  "kernelspec": {
   "display_name": "Python 3",
   "language": "python",
   "name": "python3"
  },
  "language_info": {
   "codemirror_mode": {
    "name": "ipython",
    "version": 3
   },
   "file_extension": ".py",
   "mimetype": "text/x-python",
   "name": "python",
   "nbconvert_exporter": "python",
   "pygments_lexer": "ipython3",
   "version": "3.11.3"
  }
 },
 "nbformat": 4,
 "nbformat_minor": 2
}
